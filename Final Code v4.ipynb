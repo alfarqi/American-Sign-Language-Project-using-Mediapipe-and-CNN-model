{
 "cells": [
  {
   "cell_type": "code",
   "execution_count": null,
   "id": "991b0f94",
   "metadata": {},
   "outputs": [],
   "source": [
    "!pip install pyshine"
   ]
  },
  {
   "cell_type": "code",
   "execution_count": 1,
   "id": "d1f84d7c",
   "metadata": {},
   "outputs": [
    {
     "data": {
      "text/plain": [
       "'2.9.0-dev20220224'"
      ]
     },
     "execution_count": 1,
     "metadata": {},
     "output_type": "execute_result"
    }
   ],
   "source": [
    "# Import libraries\n",
    "import pandas as pd\n",
    "import numpy as np\n",
    "import tensorflow as tf\n",
    "import mediapipe as mp\n",
    "import os\n",
    "import csv\n",
    "import cv2 as cv\n",
    "import matplotlib.pyplot as plt\n",
    "import matplotlib.image as mpimg\n",
    "from tensorflow.keras.utils import to_categorical\n",
    "import seaborn as sns\n",
    "import matplotlib.pyplot as plt\n",
    "from sklearn.model_selection import train_test_split\n",
    "from sklearn.metrics import accuracy_score, confusion_matrix, classification_report, f1_score, recall_score, precision_score\n",
    "from sklearn.svm import SVC\n",
    "from sklearn.model_selection import GridSearchCV\n",
    "import joblib\n",
    "from tensorflow.keras.layers import Dense,LSTM\n",
    "from collections import Counter\n",
    "from tensorflow.keras.optimizers import Adam, RMSprop, SGD\n",
    "from sklearn import preprocessing\n",
    "from keras.layers import Conv1D, Dense, MaxPool1D, Flatten, Input, BatchNormalization, Activation, MaxPooling1D, Dropout\n",
    "\n",
    "import warnings\n",
    "\n",
    "import pyttsx3\n",
    "from threading import Thread\n",
    "\n",
    "#import tensorboard\n",
    "from time import time\n",
    "from tensorflow.python.keras.callbacks import TensorBoard\n",
    "\n",
    "#make numpy values easy to read\n",
    "np.set_printoptions(precision=3, suppress=True)\n",
    "from tensorflow.keras.models import Sequential, Model\n",
    "from tensorflow.keras.callbacks import Callback, EarlyStopping\n",
    "\n",
    "#Checking Tensorflow Version\n",
    "tf.__version__"
   ]
  },
  {
   "cell_type": "code",
   "execution_count": 2,
   "id": "b5a7bc02",
   "metadata": {},
   "outputs": [],
   "source": [
    "warnings.filterwarnings(\"ignore\")"
   ]
  },
  {
   "cell_type": "code",
   "execution_count": 3,
   "id": "2bca7c3c",
   "metadata": {},
   "outputs": [],
   "source": [
    "is_voice_on = True\n",
    "engine = pyttsx3.init()\n",
    "engine.setProperty('rate', 150)\n"
   ]
  },
  {
   "cell_type": "code",
   "execution_count": 4,
   "id": "1b0c1d51",
   "metadata": {},
   "outputs": [],
   "source": [
    "#Function to extract Feature from images or frame\n",
    "def extract_feature(input_image):\n",
    "    mp_hands = mp.solutions.hands\n",
    "    mp_drawing = mp.solutions.drawing_utils\n",
    "    image = cv.imread(input_image)\n",
    "    \n",
    "    with mp_hands.Hands(static_image_mode=True, max_num_hands=2, min_detection_confidence=0.1) as hands:\n",
    "        while True:\n",
    "            results = hands.process(cv.flip(cv.cvtColor(image, cv.COLOR_BGR2RGB),1))\n",
    "            image_height, image_width, _ = image.shape\n",
    "            \n",
    "            if not results.multi_hand_landmarks:\n",
    "\n",
    "                # Here we will set whole landmarks into zero as no handpose detected\n",
    "                # in a picture wanted to extract.\n",
    "                \n",
    "                #Wrist Hand\n",
    "                wristX = 0\n",
    "                wristY = 0\n",
    "                                \n",
    "                #Thumb Finger\n",
    "                thumb_CmcX = 0\n",
    "                thumb_CmcY = 0                \n",
    "                \n",
    "                thumb_McpX = 0\n",
    "                thumb_McpY = 0                \n",
    "                \n",
    "                thumb_IpX = 0\n",
    "                thumb_IpY = 0                \n",
    "                \n",
    "                thumb_TipX = 0\n",
    "                thumb_TipY = 0                \n",
    "                \n",
    "                #Index Finger\n",
    "                index_McpX = 0\n",
    "                index_McpY = 0                \n",
    "                \n",
    "                index_PipX = 0\n",
    "                index_PipY = 0                \n",
    "                \n",
    "                index_DipX = 0\n",
    "                index_DipY = 0                \n",
    "                \n",
    "                index_TipX = 0\n",
    "                index_TipY = 0                \n",
    "                \n",
    "                #Middle Finger\n",
    "                middle_McpX = 0\n",
    "                middle_McpY = 0                \n",
    "                \n",
    "                middle_PipX = 0\n",
    "                middle_PipY = 0                \n",
    "                \n",
    "                middle_DipX = 0\n",
    "                middle_DipY = 0                \n",
    "                \n",
    "                middle_TipX = 0\n",
    "                middle_TipY = 0                \n",
    "                \n",
    "                #Ring Finger\n",
    "                ring_McpX = 0\n",
    "                ring_McpY = 0                \n",
    "                \n",
    "                ring_PipX = 0\n",
    "                ring_PipY = 0                \n",
    "                \n",
    "                ring_DipX = 0\n",
    "                ring_DipY = 0                \n",
    "                \n",
    "                ring_TipX = 0\n",
    "                ring_TipY = 0                \n",
    "                \n",
    "                #Pinky Finger\n",
    "                pinky_McpX = 0\n",
    "                pinky_McpY = 0                \n",
    "                \n",
    "                pinky_PipX = 0\n",
    "                pinky_PipY = 0                \n",
    "                \n",
    "                pinky_DipX = 0\n",
    "                pinky_DipY = 0                \n",
    "                \n",
    "                pinky_TipX = 0\n",
    "                pinky_TipY = 0\n",
    "                \n",
    "                \n",
    "                #Set image to Zero\n",
    "                annotated_image = 0\n",
    "                \n",
    "                #Return Whole Landmark and Image\n",
    "                return (wristX,wristY,\n",
    "                        thumb_CmcX,thumb_CmcY,\n",
    "                        thumb_McpX,thumb_McpY,\n",
    "                        thumb_IpX,thumb_IpY,\n",
    "                        thumb_TipX,thumb_TipY,\n",
    "                        index_McpX,index_McpY,\n",
    "                        index_PipX,index_PipY,\n",
    "                        index_DipX,index_DipY,\n",
    "                        index_TipX,index_TipY,\n",
    "                        middle_McpX,middle_McpY,\n",
    "                        middle_PipX,middle_PipY,\n",
    "                        middle_DipX,middle_DipY,\n",
    "                        middle_TipX,middle_TipY,\n",
    "                        ring_McpX,ring_McpY,\n",
    "                        ring_PipX,ring_PipY,\n",
    "                        ring_DipX,ring_DipY,                \n",
    "                        ring_TipX,ring_TipY,\n",
    "                        pinky_McpX,pinky_McpY,\n",
    "                        pinky_PipX,pinky_PipY,\n",
    "                        pinky_DipX,pinky_DipY,\n",
    "                        pinky_TipX,pinky_TipY,\n",
    "                        annotated_image)\n",
    "            \n",
    "            annotated_image = cv.flip(image.copy(),1)\n",
    "            for hand_landmarks in results.multi_hand_landmarks:\n",
    "                \n",
    "                wristX = hand_landmarks.landmark[mp_hands.HandLandmark.WRIST].x * image_width\n",
    "                wristY = hand_landmarks.landmark[mp_hands.HandLandmark.WRIST].y * image_height\n",
    "                                \n",
    "                #Thumb Finger\n",
    "                thumb_CmcX = hand_landmarks.landmark[mp_hands.HandLandmark.THUMB_CMC].x * image_width\n",
    "                thumb_CmcY = hand_landmarks.landmark[mp_hands.HandLandmark.THUMB_CMC].y * image_height\n",
    "                                \n",
    "                thumb_McpX = hand_landmarks.landmark[mp_hands.HandLandmark.THUMB_MCP].x * image_width\n",
    "                thumb_McpY = hand_landmarks.landmark[mp_hands.HandLandmark.THUMB_MCP].y * image_height\n",
    "                                \n",
    "                thumb_IpX = hand_landmarks.landmark[mp_hands.HandLandmark.THUMB_IP].x * image_width\n",
    "                thumb_IpY = hand_landmarks.landmark[mp_hands.HandLandmark.THUMB_IP].y * image_height\n",
    "                                \n",
    "                thumb_TipX = hand_landmarks.landmark[mp_hands.HandLandmark.THUMB_TIP].x * image_width\n",
    "                thumb_TipY = hand_landmarks.landmark[mp_hands.HandLandmark.THUMB_TIP].y * image_height\n",
    "                                \n",
    "                #Index Finger\n",
    "                index_McpX = hand_landmarks.landmark[mp_hands.HandLandmark.INDEX_FINGER_MCP].x * image_width\n",
    "                index_McpY = hand_landmarks.landmark[mp_hands.HandLandmark.INDEX_FINGER_MCP].y * image_height\n",
    "                                \n",
    "                index_PipX = hand_landmarks.landmark[mp_hands.HandLandmark.INDEX_FINGER_PIP].x * image_width\n",
    "                index_PipY = hand_landmarks.landmark[mp_hands.HandLandmark.INDEX_FINGER_PIP].y * image_height\n",
    "                                                \n",
    "                index_DipX = hand_landmarks.landmark[mp_hands.HandLandmark.INDEX_FINGER_DIP].x * image_width\n",
    "                index_DipY = hand_landmarks.landmark[mp_hands.HandLandmark.INDEX_FINGER_DIP].y * image_height\n",
    "                                \n",
    "                index_TipX = hand_landmarks.landmark[mp_hands.HandLandmark.INDEX_FINGER_TIP].x * image_width\n",
    "                index_TipY = hand_landmarks.landmark[mp_hands.HandLandmark.INDEX_FINGER_TIP].y * image_height\n",
    "                 \n",
    "                \n",
    "                #Middle Finger\n",
    "                middle_McpX = hand_landmarks.landmark[mp_hands.HandLandmark.MIDDLE_FINGER_MCP].x * image_width\n",
    "                middle_McpY = hand_landmarks.landmark[mp_hands.HandLandmark.MIDDLE_FINGER_MCP].y * image_height\n",
    "                                \n",
    "                middle_PipX = hand_landmarks.landmark[mp_hands.HandLandmark.MIDDLE_FINGER_PIP].x * image_width\n",
    "                middle_PipY = hand_landmarks.landmark[mp_hands.HandLandmark.MIDDLE_FINGER_PIP].y * image_height\n",
    "                                                \n",
    "                middle_DipX = hand_landmarks.landmark[mp_hands.HandLandmark.MIDDLE_FINGER_DIP].x * image_width\n",
    "                middle_DipY = hand_landmarks.landmark[mp_hands.HandLandmark.MIDDLE_FINGER_DIP].y * image_height\n",
    "                                \n",
    "                middle_TipX = hand_landmarks.landmark[mp_hands.HandLandmark.MIDDLE_FINGER_TIP].x * image_width\n",
    "                middle_TipY = hand_landmarks.landmark[mp_hands.HandLandmark.MIDDLE_FINGER_TIP].y * image_height\n",
    "                \n",
    "                \n",
    "                #Ring Finger\n",
    "                ring_McpX = hand_landmarks.landmark[mp_hands.HandLandmark.RING_FINGER_MCP].x * image_width\n",
    "                ring_McpY = hand_landmarks.landmark[mp_hands.HandLandmark.RING_FINGER_MCP].y * image_height\n",
    "                                \n",
    "                ring_PipX = hand_landmarks.landmark[mp_hands.HandLandmark.RING_FINGER_PIP].x * image_width\n",
    "                ring_PipY = hand_landmarks.landmark[mp_hands.HandLandmark.RING_FINGER_PIP].y * image_height\n",
    "                                                \n",
    "                ring_DipX = hand_landmarks.landmark[mp_hands.HandLandmark.RING_FINGER_DIP].x * image_width\n",
    "                ring_DipY = hand_landmarks.landmark[mp_hands.HandLandmark.RING_FINGER_DIP].y * image_height\n",
    "                                \n",
    "                ring_TipX = hand_landmarks.landmark[mp_hands.HandLandmark.RING_FINGER_TIP].x * image_width\n",
    "                ring_TipY = hand_landmarks.landmark[mp_hands.HandLandmark.RING_FINGER_TIP].y * image_height\n",
    "               \n",
    "                \n",
    "                #Pinky Finger\n",
    "                pinky_McpX = hand_landmarks.landmark[mp_hands.HandLandmark.PINKY_MCP].x * image_width\n",
    "                pinky_McpY = hand_landmarks.landmark[mp_hands.HandLandmark.PINKY_MCP].y * image_height\n",
    "                                \n",
    "                pinky_PipX = hand_landmarks.landmark[mp_hands.HandLandmark.PINKY_PIP].x * image_width\n",
    "                pinky_PipY = hand_landmarks.landmark[mp_hands.HandLandmark.PINKY_PIP].y * image_height\n",
    "                                                \n",
    "                pinky_DipX = hand_landmarks.landmark[mp_hands.HandLandmark.PINKY_DIP].x * image_width\n",
    "                pinky_DipY = hand_landmarks.landmark[mp_hands.HandLandmark.PINKY_DIP].y * image_height\n",
    "                                \n",
    "                pinky_TipX = hand_landmarks.landmark[mp_hands.HandLandmark.PINKY_TIP].x * image_width\n",
    "                pinky_TipY = hand_landmarks.landmark[mp_hands.HandLandmark.PINKY_TIP].y * image_height\n",
    "                \n",
    "                \n",
    "                #Draw the Skeleton\n",
    "                mp_drawing.draw_landmarks(annotated_image, hand_landmarks, mp_hands.HAND_CONNECTIONS)\n",
    "                \n",
    "                return (wristX,wristY,\n",
    "                        thumb_CmcX,thumb_CmcY,\n",
    "                        thumb_McpX,thumb_McpY,\n",
    "                        thumb_IpX,thumb_IpY,\n",
    "                        thumb_TipX,thumb_TipY,\n",
    "                        index_McpX,index_McpY,\n",
    "                        index_PipX,index_PipY,\n",
    "                        index_DipX,index_DipY,\n",
    "                        index_TipX,index_TipY,\n",
    "                        middle_McpX,middle_McpY,\n",
    "                        middle_PipX,middle_PipY,\n",
    "                        middle_DipX,middle_DipY,\n",
    "                        middle_TipX,middle_TipY,\n",
    "                        ring_McpX,ring_McpY,\n",
    "                        ring_PipX,ring_PipY,\n",
    "                        ring_DipX,ring_DipY,            \n",
    "                        ring_TipX,ring_TipY,\n",
    "                        pinky_McpX,pinky_McpY,\n",
    "                        pinky_PipX,pinky_PipY,\n",
    "                        pinky_DipX,pinky_DipY,\n",
    "                        pinky_TipX,pinky_TipY,\n",
    "                        annotated_image)\n",
    "                \n",
    "                "
   ]
  },
  {
   "cell_type": "code",
   "execution_count": 5,
   "id": "aa14cde1",
   "metadata": {},
   "outputs": [],
   "source": [
    "#Delete Files\n",
    "def remove_img(path, img_name):\n",
    "    os.remove(path + '/' + img_name)\n",
    "# check if file exists or not\n",
    "    if os.path.exists(path + '/' + img_name) is False:\n",
    "        # file did not exists\n",
    "        return True\n"
   ]
  },
  {
   "cell_type": "code",
   "execution_count": 6,
   "id": "602bf04b",
   "metadata": {},
   "outputs": [],
   "source": [
    "#Function to create CSV file or add dataset to the existed CSV file\n",
    "def toCSV(filecsv, class_type,\n",
    "          wristX,wristY,\n",
    "          thumb_CmcX,thumb_CmcY,\n",
    "          thumb_McpX,thumb_McpY,\n",
    "          thumb_IpX,thumb_IpY,\n",
    "          thumb_TipX,thumb_TipY,\n",
    "          index_McpX,index_McpY,\n",
    "          index_PipX,index_PipY,\n",
    "          index_DipX,index_DipY,\n",
    "          index_TipX,index_TipY,\n",
    "          middle_McpX,middle_McpY,\n",
    "          middle_PipX,middle_PipY,\n",
    "          middle_DipX,middle_DipY,\n",
    "          middle_TipX,middle_TipY,\n",
    "          ring_McpX,ring_McpY,\n",
    "          ring_PipX,ring_PipY,\n",
    "          ring_DipX,ring_DipY,\n",
    "          ring_TipX,ring_TipY,\n",
    "          pinky_McpX,pinky_McpY,\n",
    "          pinky_PipX,pinky_PipY,\n",
    "          pinky_DipX,pinky_DipY,\n",
    "          pinky_TipX,pinky_TipY):\n",
    "    if os.path.isfile(filecsv):\n",
    "        with open(filecsv, 'a+', newline='') as file:\n",
    "            writer = csv.writer(file)\n",
    "            writer.writerow([wristX,wristY,\n",
    "                             thumb_CmcX,thumb_CmcY,\n",
    "                             thumb_McpX,thumb_McpY,\n",
    "                             thumb_IpX,thumb_IpY,\n",
    "                             thumb_TipX,thumb_TipY,\n",
    "                             index_McpX,index_McpY,\n",
    "                             index_PipX,index_PipY,\n",
    "                             index_DipX,index_DipY,\n",
    "                             index_TipX,index_TipY,\n",
    "                             middle_McpX,middle_McpY,\n",
    "                             middle_PipX,middle_PipY,\n",
    "                             middle_DipX,middle_DipY,\n",
    "                             middle_TipX,middle_TipY,\n",
    "                             ring_McpX,ring_McpY,\n",
    "                             ring_PipX,ring_PipY,\n",
    "                             ring_DipX,ring_DipY,\n",
    "                             ring_TipX,ring_TipY,\n",
    "                             pinky_McpX,pinky_McpY,\n",
    "                             pinky_PipX,pinky_PipY,\n",
    "                             pinky_DipX,pinky_DipY,\n",
    "                             pinky_TipX,pinky_TipY,class_type])\n",
    "    else:\n",
    "        with open(filecsv, 'w', newline='') as file:\n",
    "            writer = csv.writer(file)\n",
    "            writer.writerow([\"wristX\",\"wristY\",\n",
    "                             \"thumb_CmcX\",\"thumb_CmcY\",\n",
    "                             \"thumb_McpX\",\"thumb_McpY\",\n",
    "                             \"thumb_IpX\",\"thumb_IpY\",\n",
    "                             \"thumb_TipX\",\"thumb_TipY\",\n",
    "                             \"index_McpX\",\"index_McpY\",\n",
    "                             \"index_PipX\",\"index_PipY\",\n",
    "                             \"index_DipX\",\"index_DipY\",\n",
    "                             \"index_TipX\",\"index_TipY\",\n",
    "                             \"middle_McpX\",\"middle_McpY\",\n",
    "                             \"middle_PipX\",\"middle_PipY\",\n",
    "                             \"middle_DipX\",\"middle_DipY\",\n",
    "                             \"middle_TipX\",\"middle_TipY\",\n",
    "                             \"ring_McpX\",\"ring_McpY\",\n",
    "                             \"ring_PipX\",\"ring_PipY\",\n",
    "                             \"ring_DipX\",\"ring_DipY\",\n",
    "                             \"ring_TipX\",\"ring_TipY\",\n",
    "                             \"pinky_McpX\",\"pinky_McpY\",\n",
    "                             \"pinky_PipX\",\"pinky_PipY\",\n",
    "                             \"pinky_DipX\",\"pinky_DipY\",\n",
    "                             \"pinky_TipX\",\"pinky_TipY\",\"class_type\"])\n",
    "            writer.writerow([wristX,wristY,\n",
    "                             thumb_CmcX,thumb_CmcY,\n",
    "                             thumb_McpX,thumb_McpY,\n",
    "                             thumb_IpX,thumb_IpY,\n",
    "                             thumb_TipX,thumb_TipY,\n",
    "                             index_McpX,index_McpY,\n",
    "                             index_PipX,index_PipY,\n",
    "                             index_DipX,index_DipY,\n",
    "                             index_TipX,index_TipY,\n",
    "                             middle_McpX,middle_McpY,\n",
    "                             middle_PipX,middle_PipY,\n",
    "                             middle_DipX,middle_DipY,\n",
    "                             middle_TipX,middle_TipY,\n",
    "                             ring_McpX,ring_McpY,\n",
    "                             ring_PipX,ring_PipY,\n",
    "                             ring_DipX,ring_DipY,\n",
    "                             ring_TipX,ring_TipY,\n",
    "                             pinky_McpX,pinky_McpY,\n",
    "                             pinky_PipX,pinky_PipY,\n",
    "                             pinky_DipX,pinky_DipY,\n",
    "                             pinky_TipX,pinky_TipY,class_type])"
   ]
  },
  {
   "cell_type": "code",
   "execution_count": null,
   "id": "d1dceec8",
   "metadata": {
    "scrolled": true
   },
   "outputs": [],
   "source": [
    "# #Extract Featuer for Training\n",
    "# #Dataset used is SIBI version V02\n",
    "# paths=\"./dataset/train_space\"\n",
    "# csv_path=\"./american_training_space.csv\"\n",
    "\n",
    "# if os.path.exists(csv_path):\n",
    "#     print(\"CSV File does exist, the file will be replaced with new one\")\n",
    "#     os.remove(csv_path)\n",
    "# else:\n",
    "#     print('The CSV file does not exist', csv_path, \".The file will be created now\")\n",
    "    \n",
    "# for dirlist in os.listdir(paths):\n",
    "#     for root, directories, filenames in os.walk(os.path.join(paths, dirlist)):\n",
    "#         print(\"Inside Folder\", dirlist, \"Consist :\", len(filenames), \"Imageset\")\n",
    "#         for filename in filenames:\n",
    "#             if filename.endswith(\".jpg\") or filename.endswith(\".JPG\") or filename.endswith(\".jpeg\") or filename.endswith(\".png\"):\n",
    "#                 (wristX,wristY,\n",
    "#                  thumb_CmcX,thumb_CmcY,\n",
    "#                  thumb_McpX,thumb_McpY,\n",
    "#                  thumb_IpX,thumb_IpY,\n",
    "#                  thumb_TipX,thumb_TipY,\n",
    "#                  index_McpX,index_McpY,\n",
    "#                  index_PipX,index_PipY,\n",
    "#                  index_DipX,index_DipY,\n",
    "#                  index_TipX,index_TipY,\n",
    "#                  middle_McpX,middle_McpY,\n",
    "#                  middle_PipX,middle_PipY,\n",
    "#                  middle_DipX,middle_DipY,\n",
    "#                  middle_TipX,middle_TipY,\n",
    "#                  ring_McpX,ring_McpY,\n",
    "#                  ring_PipX,ring_PipY,\n",
    "#                  ring_DipX,ring_DipY,\n",
    "#                  ring_TipX,ring_TipY,\n",
    "#                  pinky_McpX,pinky_McpY,\n",
    "#                  pinky_PipX,pinky_PipY,\n",
    "#                  pinky_DipX,pinky_DipY,\n",
    "#                  pinky_TipX,pinky_TipY,\n",
    "#                  annotated_image) = extract_feature(os.path.join(root, filename))\n",
    "                \n",
    "#                 if ((not wristX == 0) and (not wristY == 0)):\n",
    "#                     toCSV(csv_path, dirlist,\n",
    "#                          wristX,wristY,\n",
    "#                          thumb_CmcX,thumb_CmcY,\n",
    "#                          thumb_McpX,thumb_McpY,\n",
    "#                          thumb_IpX,thumb_IpY,\n",
    "#                          thumb_TipX,thumb_TipY,\n",
    "#                          index_McpX,index_McpY,\n",
    "#                          index_PipX,index_PipY,\n",
    "#                          index_DipX,index_DipY,\n",
    "#                          index_TipX,index_TipY,\n",
    "#                          middle_McpX,middle_McpY,\n",
    "#                          middle_PipX,middle_PipY,\n",
    "#                          middle_DipX,middle_DipY,\n",
    "#                          middle_TipX,middle_TipY,\n",
    "#                          ring_McpX,ring_McpY,\n",
    "#                          ring_PipX,ring_PipY,\n",
    "#                          ring_DipX,ring_DipY,\n",
    "#                          ring_TipX,ring_TipY,\n",
    "#                          pinky_McpX,pinky_McpY,\n",
    "#                          pinky_PipX,pinky_PipY,\n",
    "#                          pinky_DipX,pinky_DipY,\n",
    "#                          pinky_TipX,pinky_TipY)\n",
    "#                 else:\n",
    "#                     print(os.path.join(root, filename), \"Hand does not have landmarks\")\n",
    "#                     #remove_img(root, filename)\n",
    "                    \n",
    "# print(\"===============================Featuer Extraction for Training is Completed================================\")\n",
    "                        "
   ]
  },
  {
   "cell_type": "code",
   "execution_count": null,
   "id": "0e5814db",
   "metadata": {},
   "outputs": [],
   "source": [
    "#Extract Featuer for Training\n",
    "#Dataset used is SIBI version V02\n",
    "# paths=\"./dataset/validation/\"\n",
    "# csv_path=\"american_validation.csv\"\n",
    "\n",
    "# if os.path.exists(csv_path):\n",
    "#     print(\"CSV File does exist, the file will be replaced with new one\")\n",
    "#     os.remove(csv_path)\n",
    "# else:\n",
    "#     print('The CSV file does not exist', csv_path, \".The file will be created now\")\n",
    "    \n",
    "# for dirlist in os.listdir(paths):\n",
    "#     for root, directories, filenames in os.walk(os.path.join(paths, dirlist)):\n",
    "#         print(\"Inside Folder\", dirlist, \"Consist :\", len(filenames), \"Imageset\")\n",
    "#         for filename in filenames:\n",
    "#             if filename.endswith(\".jpg\") or filename.endswith(\".JPG\") or filename.endswith(\".jpeg\"):\n",
    "#                 (wristX,wristY,\n",
    "#                  thumb_CmcX,thumb_CmcY,\n",
    "#                  thumb_McpX,thumb_McpY,\n",
    "#                  thumb_IpX,thumb_IpY,\n",
    "#                  thumb_TipX,thumb_TipY,\n",
    "#                  index_McpX,index_McpY,\n",
    "#                  index_PipX,index_PipY,\n",
    "#                  index_DipX,index_DipY,\n",
    "#                  index_TipX,index_TipY,\n",
    "#                  middle_McpX,middle_McpY,\n",
    "#                  middle_PipX,middle_PipY,\n",
    "#                  middle_DipX,middle_DipY,\n",
    "#                  middle_TipX,middle_TipY,\n",
    "#                  ring_McpX,ring_McpY,\n",
    "#                  ring_PipX,ring_PipY,\n",
    "#                  ring_DipX,ring_DipY,\n",
    "#                  ring_TipX,ring_TipY,\n",
    "#                  pinky_McpX,pinky_McpY,\n",
    "#                  pinky_PipX,pinky_PipY,\n",
    "#                  pinky_DipX,pinky_DipY,\n",
    "#                  pinky_TipX,pinky_TipY,\n",
    "#                  annotated_image) = extract_feature(os.path.join(root, filename))\n",
    "                \n",
    "#                 if ((not wristX == 0) and (not wristY == 0)):\n",
    "#                     toCSV(csv_path, dirlist,\n",
    "#                          wristX,wristY,\n",
    "#                          thumb_CmcX,thumb_CmcY,\n",
    "#                          thumb_McpX,thumb_McpY,\n",
    "#                          thumb_IpX,thumb_IpY,\n",
    "#                          thumb_TipX,thumb_TipY,\n",
    "#                          index_McpX,index_McpY,\n",
    "#                          index_PipX,index_PipY,\n",
    "#                          index_DipX,index_DipY,\n",
    "#                          index_TipX,index_TipY,\n",
    "#                          middle_McpX,middle_McpY,\n",
    "#                          middle_PipX,middle_PipY,\n",
    "#                          middle_DipX,middle_DipY,\n",
    "#                          middle_TipX,middle_TipY,\n",
    "#                          ring_McpX,ring_McpY,\n",
    "#                          ring_PipX,ring_PipY,\n",
    "#                          ring_DipX,ring_DipY,\n",
    "#                          ring_TipX,ring_TipY,\n",
    "#                          pinky_McpX,pinky_McpY,\n",
    "#                          pinky_PipX,pinky_PipY,\n",
    "#                          pinky_DipX,pinky_DipY,\n",
    "#                          pinky_TipX,pinky_TipY)\n",
    "#                 else:\n",
    "                    \n",
    "#                     print(os.path.join(root, filename), \"Hand does not have landmarks\")\n",
    "#                     #remove_img(root, filename)\n",
    "                    \n",
    "# print(\"===============================Featuer Extraction for Validation is Completed================================\")"
   ]
  },
  {
   "cell_type": "code",
   "execution_count": 7,
   "id": "a2d91524",
   "metadata": {},
   "outputs": [],
   "source": [
    "#Read Training csv file\n",
    "#df_train = pd.read_csv('hands_SIBI_training.csv', header=0)\n",
    "df_train = pd.read_csv('american_training.csv', header=0)\n"
   ]
  },
  {
   "cell_type": "code",
   "execution_count": 8,
   "id": "b4759be7",
   "metadata": {},
   "outputs": [
    {
     "data": {
      "text/html": [
       "<div>\n",
       "<style scoped>\n",
       "    .dataframe tbody tr th:only-of-type {\n",
       "        vertical-align: middle;\n",
       "    }\n",
       "\n",
       "    .dataframe tbody tr th {\n",
       "        vertical-align: top;\n",
       "    }\n",
       "\n",
       "    .dataframe thead th {\n",
       "        text-align: right;\n",
       "    }\n",
       "</style>\n",
       "<table border=\"1\" class=\"dataframe\">\n",
       "  <thead>\n",
       "    <tr style=\"text-align: right;\">\n",
       "      <th></th>\n",
       "      <th>0</th>\n",
       "      <th>1</th>\n",
       "      <th>2</th>\n",
       "      <th>3</th>\n",
       "      <th>4</th>\n",
       "      <th>5</th>\n",
       "      <th>6</th>\n",
       "      <th>7</th>\n",
       "      <th>8</th>\n",
       "      <th>9</th>\n",
       "      <th>...</th>\n",
       "      <th>33</th>\n",
       "      <th>34</th>\n",
       "      <th>35</th>\n",
       "      <th>36</th>\n",
       "      <th>37</th>\n",
       "      <th>38</th>\n",
       "      <th>39</th>\n",
       "      <th>40</th>\n",
       "      <th>41</th>\n",
       "      <th>class_type</th>\n",
       "    </tr>\n",
       "  </thead>\n",
       "  <tbody>\n",
       "    <tr>\n",
       "      <th>0</th>\n",
       "      <td>1000.230789</td>\n",
       "      <td>1316.776199</td>\n",
       "      <td>850.471344</td>\n",
       "      <td>1245.884514</td>\n",
       "      <td>742.863808</td>\n",
       "      <td>1063.442001</td>\n",
       "      <td>696.777992</td>\n",
       "      <td>906.248760</td>\n",
       "      <td>632.845116</td>\n",
       "      <td>794.006939</td>\n",
       "      <td>...</td>\n",
       "      <td>1221.548309</td>\n",
       "      <td>1172.733536</td>\n",
       "      <td>975.514412</td>\n",
       "      <td>1130.592270</td>\n",
       "      <td>986.893043</td>\n",
       "      <td>1097.727242</td>\n",
       "      <td>1114.666901</td>\n",
       "      <td>1066.119461</td>\n",
       "      <td>1200.280609</td>\n",
       "      <td>A</td>\n",
       "    </tr>\n",
       "    <tr>\n",
       "      <th>3468</th>\n",
       "      <td>73.333389</td>\n",
       "      <td>155.259800</td>\n",
       "      <td>49.790385</td>\n",
       "      <td>145.502412</td>\n",
       "      <td>30.123091</td>\n",
       "      <td>118.640280</td>\n",
       "      <td>27.373829</td>\n",
       "      <td>93.417323</td>\n",
       "      <td>33.933997</td>\n",
       "      <td>77.106667</td>\n",
       "      <td>...</td>\n",
       "      <td>131.023288</td>\n",
       "      <td>93.845147</td>\n",
       "      <td>113.462615</td>\n",
       "      <td>95.961833</td>\n",
       "      <td>104.241145</td>\n",
       "      <td>92.041337</td>\n",
       "      <td>120.953822</td>\n",
       "      <td>87.668484</td>\n",
       "      <td>132.476962</td>\n",
       "      <td>A</td>\n",
       "    </tr>\n",
       "    <tr>\n",
       "      <th>3467</th>\n",
       "      <td>73.949933</td>\n",
       "      <td>148.149133</td>\n",
       "      <td>50.492072</td>\n",
       "      <td>141.764855</td>\n",
       "      <td>30.036971</td>\n",
       "      <td>114.270937</td>\n",
       "      <td>28.486604</td>\n",
       "      <td>87.665433</td>\n",
       "      <td>37.839282</td>\n",
       "      <td>72.027230</td>\n",
       "      <td>...</td>\n",
       "      <td>125.335097</td>\n",
       "      <td>93.988252</td>\n",
       "      <td>108.822095</td>\n",
       "      <td>96.699738</td>\n",
       "      <td>100.023544</td>\n",
       "      <td>93.434680</td>\n",
       "      <td>116.339600</td>\n",
       "      <td>88.925689</td>\n",
       "      <td>125.961387</td>\n",
       "      <td>A</td>\n",
       "    </tr>\n",
       "    <tr>\n",
       "      <th>3466</th>\n",
       "      <td>77.980763</td>\n",
       "      <td>148.956657</td>\n",
       "      <td>53.256589</td>\n",
       "      <td>139.718998</td>\n",
       "      <td>32.214144</td>\n",
       "      <td>114.121628</td>\n",
       "      <td>28.527832</td>\n",
       "      <td>88.724798</td>\n",
       "      <td>36.203569</td>\n",
       "      <td>72.813392</td>\n",
       "      <td>...</td>\n",
       "      <td>123.856473</td>\n",
       "      <td>94.810069</td>\n",
       "      <td>106.177139</td>\n",
       "      <td>97.026861</td>\n",
       "      <td>95.915931</td>\n",
       "      <td>94.427669</td>\n",
       "      <td>111.931860</td>\n",
       "      <td>90.989864</td>\n",
       "      <td>123.853660</td>\n",
       "      <td>A</td>\n",
       "    </tr>\n",
       "    <tr>\n",
       "      <th>3465</th>\n",
       "      <td>79.406494</td>\n",
       "      <td>145.706511</td>\n",
       "      <td>54.689348</td>\n",
       "      <td>137.104821</td>\n",
       "      <td>33.304521</td>\n",
       "      <td>111.537206</td>\n",
       "      <td>29.558751</td>\n",
       "      <td>85.922170</td>\n",
       "      <td>37.054923</td>\n",
       "      <td>70.040119</td>\n",
       "      <td>...</td>\n",
       "      <td>119.094264</td>\n",
       "      <td>95.229065</td>\n",
       "      <td>102.956891</td>\n",
       "      <td>97.149777</td>\n",
       "      <td>92.136455</td>\n",
       "      <td>94.960862</td>\n",
       "      <td>107.896459</td>\n",
       "      <td>91.335928</td>\n",
       "      <td>119.704676</td>\n",
       "      <td>A</td>\n",
       "    </tr>\n",
       "    <tr>\n",
       "      <th>...</th>\n",
       "      <td>...</td>\n",
       "      <td>...</td>\n",
       "      <td>...</td>\n",
       "      <td>...</td>\n",
       "      <td>...</td>\n",
       "      <td>...</td>\n",
       "      <td>...</td>\n",
       "      <td>...</td>\n",
       "      <td>...</td>\n",
       "      <td>...</td>\n",
       "      <td>...</td>\n",
       "      <td>...</td>\n",
       "      <td>...</td>\n",
       "      <td>...</td>\n",
       "      <td>...</td>\n",
       "      <td>...</td>\n",
       "      <td>...</td>\n",
       "      <td>...</td>\n",
       "      <td>...</td>\n",
       "      <td>...</td>\n",
       "      <td>...</td>\n",
       "    </tr>\n",
       "    <tr>\n",
       "      <th>108341</th>\n",
       "      <td>400.952911</td>\n",
       "      <td>284.038753</td>\n",
       "      <td>392.078514</td>\n",
       "      <td>251.386099</td>\n",
       "      <td>397.874832</td>\n",
       "      <td>223.714127</td>\n",
       "      <td>396.493721</td>\n",
       "      <td>203.941484</td>\n",
       "      <td>394.308243</td>\n",
       "      <td>184.587078</td>\n",
       "      <td>...</td>\n",
       "      <td>164.286661</td>\n",
       "      <td>448.071327</td>\n",
       "      <td>236.703429</td>\n",
       "      <td>464.044037</td>\n",
       "      <td>212.701635</td>\n",
       "      <td>462.308273</td>\n",
       "      <td>193.104544</td>\n",
       "      <td>455.945930</td>\n",
       "      <td>179.442716</td>\n",
       "      <td>space</td>\n",
       "    </tr>\n",
       "    <tr>\n",
       "      <th>108340</th>\n",
       "      <td>435.090561</td>\n",
       "      <td>409.500103</td>\n",
       "      <td>430.772133</td>\n",
       "      <td>374.556084</td>\n",
       "      <td>442.747879</td>\n",
       "      <td>342.085361</td>\n",
       "      <td>447.420616</td>\n",
       "      <td>319.372215</td>\n",
       "      <td>448.235970</td>\n",
       "      <td>297.229300</td>\n",
       "      <td>...</td>\n",
       "      <td>314.132023</td>\n",
       "      <td>500.686035</td>\n",
       "      <td>377.174006</td>\n",
       "      <td>525.560837</td>\n",
       "      <td>363.106098</td>\n",
       "      <td>524.883041</td>\n",
       "      <td>343.338690</td>\n",
       "      <td>515.901032</td>\n",
       "      <td>329.197597</td>\n",
       "      <td>space</td>\n",
       "    </tr>\n",
       "    <tr>\n",
       "      <th>108339</th>\n",
       "      <td>433.801537</td>\n",
       "      <td>407.049293</td>\n",
       "      <td>430.231056</td>\n",
       "      <td>373.599100</td>\n",
       "      <td>442.837601</td>\n",
       "      <td>341.574469</td>\n",
       "      <td>447.467155</td>\n",
       "      <td>319.008751</td>\n",
       "      <td>448.301506</td>\n",
       "      <td>296.823463</td>\n",
       "      <td>...</td>\n",
       "      <td>314.231415</td>\n",
       "      <td>499.990616</td>\n",
       "      <td>377.689362</td>\n",
       "      <td>525.474091</td>\n",
       "      <td>363.309288</td>\n",
       "      <td>525.046578</td>\n",
       "      <td>343.328762</td>\n",
       "      <td>516.096878</td>\n",
       "      <td>329.223633</td>\n",
       "      <td>space</td>\n",
       "    </tr>\n",
       "    <tr>\n",
       "      <th>108346</th>\n",
       "      <td>436.080780</td>\n",
       "      <td>410.168409</td>\n",
       "      <td>430.578766</td>\n",
       "      <td>373.275490</td>\n",
       "      <td>441.528320</td>\n",
       "      <td>340.751781</td>\n",
       "      <td>446.161270</td>\n",
       "      <td>318.195820</td>\n",
       "      <td>446.650124</td>\n",
       "      <td>296.453161</td>\n",
       "      <td>...</td>\n",
       "      <td>312.138176</td>\n",
       "      <td>500.840187</td>\n",
       "      <td>375.500021</td>\n",
       "      <td>526.087303</td>\n",
       "      <td>360.426321</td>\n",
       "      <td>524.767189</td>\n",
       "      <td>340.692158</td>\n",
       "      <td>515.510597</td>\n",
       "      <td>326.873646</td>\n",
       "      <td>space</td>\n",
       "    </tr>\n",
       "    <tr>\n",
       "      <th>108441</th>\n",
       "      <td>400.342674</td>\n",
       "      <td>286.375465</td>\n",
       "      <td>391.352882</td>\n",
       "      <td>259.181013</td>\n",
       "      <td>397.320938</td>\n",
       "      <td>230.903521</td>\n",
       "      <td>395.676651</td>\n",
       "      <td>210.891466</td>\n",
       "      <td>391.493912</td>\n",
       "      <td>193.172250</td>\n",
       "      <td>...</td>\n",
       "      <td>173.304748</td>\n",
       "      <td>448.481026</td>\n",
       "      <td>241.192417</td>\n",
       "      <td>466.873550</td>\n",
       "      <td>220.594811</td>\n",
       "      <td>465.767364</td>\n",
       "      <td>201.652265</td>\n",
       "      <td>459.002495</td>\n",
       "      <td>189.019117</td>\n",
       "      <td>space</td>\n",
       "    </tr>\n",
       "  </tbody>\n",
       "</table>\n",
       "<p>147482 rows × 43 columns</p>\n",
       "</div>"
      ],
      "text/plain": [
       "                  0            1           2            3           4  \\\n",
       "0       1000.230789  1316.776199  850.471344  1245.884514  742.863808   \n",
       "3468      73.333389   155.259800   49.790385   145.502412   30.123091   \n",
       "3467      73.949933   148.149133   50.492072   141.764855   30.036971   \n",
       "3466      77.980763   148.956657   53.256589   139.718998   32.214144   \n",
       "3465      79.406494   145.706511   54.689348   137.104821   33.304521   \n",
       "...             ...          ...         ...          ...         ...   \n",
       "108341   400.952911   284.038753  392.078514   251.386099  397.874832   \n",
       "108340   435.090561   409.500103  430.772133   374.556084  442.747879   \n",
       "108339   433.801537   407.049293  430.231056   373.599100  442.837601   \n",
       "108346   436.080780   410.168409  430.578766   373.275490  441.528320   \n",
       "108441   400.342674   286.375465  391.352882   259.181013  397.320938   \n",
       "\n",
       "                  5           6           7           8           9  ...  \\\n",
       "0       1063.442001  696.777992  906.248760  632.845116  794.006939  ...   \n",
       "3468     118.640280   27.373829   93.417323   33.933997   77.106667  ...   \n",
       "3467     114.270937   28.486604   87.665433   37.839282   72.027230  ...   \n",
       "3466     114.121628   28.527832   88.724798   36.203569   72.813392  ...   \n",
       "3465     111.537206   29.558751   85.922170   37.054923   70.040119  ...   \n",
       "...             ...         ...         ...         ...         ...  ...   \n",
       "108341   223.714127  396.493721  203.941484  394.308243  184.587078  ...   \n",
       "108340   342.085361  447.420616  319.372215  448.235970  297.229300  ...   \n",
       "108339   341.574469  447.467155  319.008751  448.301506  296.823463  ...   \n",
       "108346   340.751781  446.161270  318.195820  446.650124  296.453161  ...   \n",
       "108441   230.903521  395.676651  210.891466  391.493912  193.172250  ...   \n",
       "\n",
       "                 33           34          35           36          37  \\\n",
       "0       1221.548309  1172.733536  975.514412  1130.592270  986.893043   \n",
       "3468     131.023288    93.845147  113.462615    95.961833  104.241145   \n",
       "3467     125.335097    93.988252  108.822095    96.699738  100.023544   \n",
       "3466     123.856473    94.810069  106.177139    97.026861   95.915931   \n",
       "3465     119.094264    95.229065  102.956891    97.149777   92.136455   \n",
       "...             ...          ...         ...          ...         ...   \n",
       "108341   164.286661   448.071327  236.703429   464.044037  212.701635   \n",
       "108340   314.132023   500.686035  377.174006   525.560837  363.106098   \n",
       "108339   314.231415   499.990616  377.689362   525.474091  363.309288   \n",
       "108346   312.138176   500.840187  375.500021   526.087303  360.426321   \n",
       "108441   173.304748   448.481026  241.192417   466.873550  220.594811   \n",
       "\n",
       "                 38           39           40           41  class_type  \n",
       "0       1097.727242  1114.666901  1066.119461  1200.280609           A  \n",
       "3468      92.041337   120.953822    87.668484   132.476962           A  \n",
       "3467      93.434680   116.339600    88.925689   125.961387           A  \n",
       "3466      94.427669   111.931860    90.989864   123.853660           A  \n",
       "3465      94.960862   107.896459    91.335928   119.704676           A  \n",
       "...             ...          ...          ...          ...         ...  \n",
       "108341   462.308273   193.104544   455.945930   179.442716       space  \n",
       "108340   524.883041   343.338690   515.901032   329.197597       space  \n",
       "108339   525.046578   343.328762   516.096878   329.223633       space  \n",
       "108346   524.767189   340.692158   515.510597   326.873646       space  \n",
       "108441   465.767364   201.652265   459.002495   189.019117       space  \n",
       "\n",
       "[147482 rows x 43 columns]"
      ]
     },
     "execution_count": 8,
     "metadata": {},
     "output_type": "execute_result"
    }
   ],
   "source": [
    "df_train.columns = [i for i in range(df_train.shape[1])]\n",
    "df_train = df_train.rename(columns={42:'class_type'})\n",
    "df_train = df_train.sort_values(by=[\"class_type\"])\n",
    "\n",
    "df_train"
   ]
  },
  {
   "cell_type": "code",
   "execution_count": 9,
   "id": "ee7453fd",
   "metadata": {},
   "outputs": [
    {
     "data": {
      "text/plain": [
       "F        7105\n",
       "L        6898\n",
       "K        6288\n",
       "G        6170\n",
       "D        6126\n",
       "C        5997\n",
       "W        5848\n",
       "R        5820\n",
       "B        5756\n",
       "Y        5743\n",
       "H        5735\n",
       "V        5655\n",
       "J        5639\n",
       "I        5593\n",
       "T        5573\n",
       "O        5475\n",
       "E        5422\n",
       "S        5302\n",
       "Z        5255\n",
       "U        5245\n",
       "A        5195\n",
       "X        5003\n",
       "M        4697\n",
       "Q        4447\n",
       "P        4431\n",
       "N        3986\n",
       "del      1851\n",
       "space    1227\n",
       "Name: class_type, dtype: int64"
      ]
     },
     "execution_count": 9,
     "metadata": {},
     "output_type": "execute_result"
    }
   ],
   "source": [
    "df_train['class_type'].value_counts()"
   ]
  },
  {
   "cell_type": "code",
   "execution_count": 10,
   "id": "ce3f065d",
   "metadata": {},
   "outputs": [
    {
     "name": "stdout",
     "output_type": "stream",
     "text": [
      "['A' 'B' 'C' 'D' 'E' 'F' 'G' 'H' 'I' 'J' 'K' 'L' 'M' 'N' 'O' 'P' 'Q' 'R'\n",
      " 'S' 'T' 'U' 'V' 'W' 'X' 'Y' 'Z' 'del' 'space']\n"
     ]
    }
   ],
   "source": [
    "# Save class labels and number of classes\n",
    "labels = df_train[\"class_type\"].values\n",
    "n_classes = len(np.unique(labels))\n",
    "print(np.unique(labels))"
   ]
  },
  {
   "cell_type": "code",
   "execution_count": null,
   "id": "6431dcfc",
   "metadata": {},
   "outputs": [],
   "source": []
  },
  {
   "cell_type": "code",
   "execution_count": 11,
   "id": "d29bab2b",
   "metadata": {},
   "outputs": [],
   "source": [
    "# Hard Encode for the Prediction\n",
    "classes = {\n",
    "    'A': 0,\n",
    "    'B': 1,\n",
    "    'C': 2,\n",
    "    'D': 3,\n",
    "    'E': 4,\n",
    "    'F': 5,\n",
    "    'G': 6,\n",
    "    'H': 7,\n",
    "    'I': 8,\n",
    "    'J': 9,\n",
    "    'K': 10,\n",
    "    'L': 11,\n",
    "    'M': 12,\n",
    "    'N': 13,\n",
    "    'O': 14,\n",
    "    'P': 15,\n",
    "    'Q': 16,\n",
    "    'R': 17,\n",
    "    'S': 18,\n",
    "    'T': 19,\n",
    "    'U': 20,\n",
    "    'V': 21,\n",
    "    'W': 22,\n",
    "    'X': 23,\n",
    "    'Y': 24,\n",
    "    'Z': 25,\n",
    "    'space': 26,\n",
    "    'del': 27,\n",
    "    'nothing': 28    \n",
    "}"
   ]
  },
  {
   "cell_type": "code",
   "execution_count": 12,
   "id": "6395a3d0",
   "metadata": {
    "scrolled": false
   },
   "outputs": [
    {
     "data": {
      "text/plain": [
       "<AxesSubplot:xlabel='class_type', ylabel='count'>"
      ]
     },
     "execution_count": 12,
     "metadata": {},
     "output_type": "execute_result"
    },
    {
     "data": {
      "image/png": "[encoded data removed]",
      "text/plain": [
       "<Figure size 1296x576 with 1 Axes>"
      ]
     },
     "metadata": {
      "needs_background": "light"
     },
     "output_type": "display_data"
    }
   ],
   "source": [
    "# Plot distribution of \"labels\"\n",
    "plt.figure(figsize = (18,8))\n",
    "sns.countplot(x ='class_type', data = df_train)"
   ]
  },
  {
   "cell_type": "code",
   "execution_count": null,
   "id": "e9ad78c2",
   "metadata": {
    "scrolled": true
   },
   "outputs": [],
   "source": []
  },
  {
   "cell_type": "code",
   "execution_count": 13,
   "id": "a684119c",
   "metadata": {},
   "outputs": [
    {
     "name": "stdout",
     "output_type": "stream",
     "text": [
      "Number of null values = 0\n"
     ]
    }
   ],
   "source": [
    "#Removing all null values\n",
    "all_null_values = df_train[df_train.iloc[:,0]==0]\n",
    "print(\"Number of null values =\", len(all_null_values.index))"
   ]
  },
  {
   "cell_type": "code",
   "execution_count": 14,
   "id": "2a576322",
   "metadata": {},
   "outputs": [],
   "source": [
    "#Dropping Null values\n",
    "df_train.drop(all_null_values.index, inplace=True)"
   ]
  },
  {
   "cell_type": "code",
   "execution_count": 15,
   "id": "815e742a",
   "metadata": {},
   "outputs": [],
   "source": [
    "#Find Outliers\n",
    "def plot_boxplot(df,ft):\n",
    "    df.boxplot(column=[ft])\n",
    "    #plt.gird(False)\n",
    "    plt.show()"
   ]
  },
  {
   "cell_type": "code",
   "execution_count": 16,
   "id": "e769671f",
   "metadata": {},
   "outputs": [],
   "source": [
    "def outliers(df,ft):\n",
    "    Q1 = df[ft].quantile(0.25)\n",
    "    Q3 = df[ft].quantile(0.75)\n",
    "    IQR = Q3-Q1\n",
    "    \n",
    "    lower_bound = Q1 - 1.5 * IQR\n",
    "    upper_bound = Q3 + 1.5 * IQR\n",
    "    \n",
    "    ls = df.index[(df[ft] < lower_bound) | (df[ft] > upper_bound)]\n",
    "    \n",
    "    return ls"
   ]
  },
  {
   "cell_type": "code",
   "execution_count": null,
   "id": "b570f99d",
   "metadata": {},
   "outputs": [],
   "source": []
  },
  {
   "cell_type": "code",
   "execution_count": 17,
   "id": "50d3c13a",
   "metadata": {},
   "outputs": [],
   "source": [
    "def remove(df, ls):\n",
    "    ls = sorted(set(ls))\n",
    "    df = df.drop(ls)\n",
    "    return df"
   ]
  },
  {
   "cell_type": "code",
   "execution_count": 18,
   "id": "987267e7",
   "metadata": {},
   "outputs": [
    {
     "data": {
      "image/png": "[encoded data removed]",
      "text/plain": [
       "<Figure size 432x288 with 1 Axes>"
      ]
     },
     "metadata": {
      "needs_background": "light"
     },
     "output_type": "display_data"
    },
    {
     "data": {
      "image/png": "[encoded data removed]",
      "text/plain": [
       "<Figure size 432x288 with 1 Axes>"
      ]
     },
     "metadata": {
      "needs_background": "light"
     },
     "output_type": "display_data"
    },
    {
     "data": {
      "image/png": "[encoded data removed]",
      "text/plain": [
       "<Figure size 432x288 with 1 Axes>"
      ]
     },
     "metadata": {
      "needs_background": "light"
     },
     "output_type": "display_data"
    },
    {
     "data": {
      "image/png": "[encoded data removed]",
      "text/plain": [
       "<Figure size 432x288 with 1 Axes>"
      ]
     },
     "metadata": {
      "needs_background": "light"
     },
     "output_type": "display_data"
    },
    {
     "data": {
      "image/png": "[encoded data removed]",
      "text/plain": [
       "<Figure size 432x288 with 1 Axes>"
      ]
     },
     "metadata": {
      "needs_background": "light"
     },
     "output_type": "display_data"
    },
    {
     "data": {
      "image/png": "[encoded data removed]",
      "text/plain": [
       "<Figure size 432x288 with 1 Axes>"
      ]
     },
     "metadata": {
      "needs_background": "light"
     },
     "output_type": "display_data"
    },
    {
     "data": {
      "image/png": "[encoded data removed]",
      "text/plain": [
       "<Figure size 432x288 with 1 Axes>"
      ]
     },
     "metadata": {
      "needs_background": "light"
     },
     "output_type": "display_data"
    },
    {
     "data": {
      "image/png": "[encoded data removed]",
      "text/plain": [
       "<Figure size 432x288 with 1 Axes>"
      ]
     },
     "metadata": {
      "needs_background": "light"
     },
     "output_type": "display_data"
    },
    {
     "data": {
      "image/png": "[encoded data removed]",
      "text/plain": [
       "<Figure size 432x288 with 1 Axes>"
      ]
     },
     "metadata": {
      "needs_background": "light"
     },
     "output_type": "display_data"
    },
    {
     "data": {
      "image/png": "[encoded data removed]",
      "text/plain": [
       "<Figure size 432x288 with 1 Axes>"
      ]
     },
     "metadata": {
      "needs_background": "light"
     },
     "output_type": "display_data"
    },
    {
     "data": {
      "image/png": "[encoded data removed]",
      "text/plain": [
       "<Figure size 432x288 with 1 Axes>"
      ]
     },
     "metadata": {
      "needs_background": "light"
     },
     "output_type": "display_data"
    },
    {
     "data": {
      "image/png": "[encoded data removed]",
      "text/plain": [
       "<Figure size 432x288 with 1 Axes>"
      ]
     },
     "metadata": {
      "needs_background": "light"
     },
     "output_type": "display_data"
    },
    {
     "data": {
      "image/png": "[encoded data removed]",
      "text/plain": [
       "<Figure size 432x288 with 1 Axes>"
      ]
     },
     "metadata": {
      "needs_background": "light"
     },
     "output_type": "display_data"
    },
    {
     "data": {
      "image/png": "[encoded data removed]",
      "text/plain": [
       "<Figure size 432x288 with 1 Axes>"
      ]
     },
     "metadata": {
      "needs_background": "light"
     },
     "output_type": "display_data"
    },
    {
     "data": {
      "image/png": "[encoded data removed]",
      "text/plain": [
       "<Figure size 432x288 with 1 Axes>"
      ]
     },
     "metadata": {
      "needs_background": "light"
     },
     "output_type": "display_data"
    },
    {
     "data": {
      "image/png": "[encoded data removed]",
      "text/plain": [
       "<Figure size 432x288 with 1 Axes>"
      ]
     },
     "metadata": {
      "needs_background": "light"
     },
     "output_type": "display_data"
    },
    {
     "data": {
      "image/png": "[encoded data removed]",
      "text/plain": [
       "<Figure size 432x288 with 1 Axes>"
      ]
     },
     "metadata": {
      "needs_background": "light"
     },
     "output_type": "display_data"
    },
    {
     "data": {
      "image/png": "[encoded data removed]",
      "text/plain": [
       "<Figure size 432x288 with 1 Axes>"
      ]
     },
     "metadata": {
      "needs_background": "light"
     },
     "output_type": "display_data"
    },
    {
     "data": {
      "image/png": "[encoded data removed]",
      "text/plain": [
       "<Figure size 432x288 with 1 Axes>"
      ]
     },
     "metadata": {
      "needs_background": "light"
     },
     "output_type": "display_data"
    },
    {
     "data": {
      "image/png": "[encoded data removed]",
      "text/plain": [
       "<Figure size 432x288 with 1 Axes>"
      ]
     },
     "metadata": {
      "needs_background": "light"
     },
     "output_type": "display_data"
    },
    {
     "data": {
      "image/png": "[encoded data removed]",
      "text/plain": [
       "<Figure size 432x288 with 1 Axes>"
      ]
     },
     "metadata": {
      "needs_background": "light"
     },
     "output_type": "display_data"
    },
    {
     "data": {
      "image/png": "[encoded data removed]",
      "text/plain": [
       "<Figure size 432x288 with 1 Axes>"
      ]
     },
     "metadata": {
      "needs_background": "light"
     },
     "output_type": "display_data"
    },
    {
     "data": {
      "image/png": "[encoded data removed]",
      "text/plain": [
       "<Figure size 432x288 with 1 Axes>"
      ]
     },
     "metadata": {
      "needs_background": "light"
     },
     "output_type": "display_data"
    },
    {
     "data": {
      "image/png": "[encoded data removed]",
      "text/plain": [
       "<Figure size 432x288 with 1 Axes>"
      ]
     },
     "metadata": {
      "needs_background": "light"
     },
     "output_type": "display_data"
    },
    {
     "data": {
      "image/png": "[encoded data removed]",
      "text/plain": [
       "<Figure size 432x288 with 1 Axes>"
      ]
     },
     "metadata": {
      "needs_background": "light"
     },
     "output_type": "display_data"
    },
    {
     "data": {
      "image/png": "[encoded data removed]",
      "text/plain": [
       "<Figure size 432x288 with 1 Axes>"
      ]
     },
     "metadata": {
      "needs_background": "light"
     },
     "output_type": "display_data"
    },
    {
     "data": {
      "image/png": "[encoded data removed]",
      "text/plain": [
       "<Figure size 432x288 with 1 Axes>"
      ]
     },
     "metadata": {
      "needs_background": "light"
     },
     "output_type": "display_data"
    },
    {
     "data": {
      "image/png": "[encoded data removed]",
      "text/plain": [
       "<Figure size 432x288 with 1 Axes>"
      ]
     },
     "metadata": {
      "needs_background": "light"
     },
     "output_type": "display_data"
    },
    {
     "data": {
      "image/png": "[encoded data removed]",
      "text/plain": [
       "<Figure size 432x288 with 1 Axes>"
      ]
     },
     "metadata": {
      "needs_background": "light"
     },
     "output_type": "display_data"
    },
    {
     "data": {
      "image/png": "[encoded data removed]",
      "text/plain": [
       "<Figure size 432x288 with 1 Axes>"
      ]
     },
     "metadata": {
      "needs_background": "light"
     },
     "output_type": "display_data"
    },
    {
     "data": {
      "image/png": "[encoded data removed]",
      "text/plain": [
       "<Figure size 432x288 with 1 Axes>"
      ]
     },
     "metadata": {
      "needs_background": "light"
     },
     "output_type": "display_data"
    },
    {
     "data": {
      "image/png": "[encoded data removed]",
      "text/plain": [
       "<Figure size 432x288 with 1 Axes>"
      ]
     },
     "metadata": {
      "needs_background": "light"
     },
     "output_type": "display_data"
    },
    {
     "data": {
      "image/png": "[encoded data removed]",
      "text/plain": [
       "<Figure size 432x288 with 1 Axes>"
      ]
     },
     "metadata": {
      "needs_background": "light"
     },
     "output_type": "display_data"
    },
    {
     "data": {
      "image/png": "[encoded data removed]",
      "text/plain": [
       "<Figure size 432x288 with 1 Axes>"
      ]
     },
     "metadata": {
      "needs_background": "light"
     },
     "output_type": "display_data"
    },
    {
     "data": {
      "image/png": "[encoded data removed]",
      "text/plain": [
       "<Figure size 432x288 with 1 Axes>"
      ]
     },
     "metadata": {
      "needs_background": "light"
     },
     "output_type": "display_data"
    },
    {
     "data": {
      "image/png": "[encoded data removed]",
      "text/plain": [
       "<Figure size 432x288 with 1 Axes>"
      ]
     },
     "metadata": {
      "needs_background": "light"
     },
     "output_type": "display_data"
    },
    {
     "data": {
      "image/png": "[encoded data removed]",
      "text/plain": [
       "<Figure size 432x288 with 1 Axes>"
      ]
     },
     "metadata": {
      "needs_background": "light"
     },
     "output_type": "display_data"
    },
    {
     "data": {
      "image/png": "[encoded data removed]",
      "text/plain": [
       "<Figure size 432x288 with 1 Axes>"
      ]
     },
     "metadata": {
      "needs_background": "light"
     },
     "output_type": "display_data"
    },
    {
     "data": {
      "image/png": "[encoded data removed]",
      "text/plain": [
       "<Figure size 432x288 with 1 Axes>"
      ]
     },
     "metadata": {
      "needs_background": "light"
     },
     "output_type": "display_data"
    },
    {
     "data": {
      "image/png": "[encoded data removed]",
      "text/plain": [
       "<Figure size 432x288 with 1 Axes>"
      ]
     },
     "metadata": {
      "needs_background": "light"
     },
     "output_type": "display_data"
    },
    {
     "data": {
      "image/png": "[encoded data removed]",
      "text/plain": [
       "<Figure size 432x288 with 1 Axes>"
      ]
     },
     "metadata": {
      "needs_background": "light"
     },
     "output_type": "display_data"
    }
   ],
   "source": [
    "#Train \n",
    "for i in range(41):\n",
    "    plot_boxplot(df_train,i)"
   ]
  },
  {
   "cell_type": "code",
   "execution_count": 19,
   "id": "fb718098",
   "metadata": {},
   "outputs": [],
   "source": [
    "#Create an empty list\n",
    "\n",
    "index_list=[]\n",
    "for j in range(41):\n",
    "    index_list.extend(outliers(df_train,i))"
   ]
  },
  {
   "cell_type": "code",
   "execution_count": 20,
   "id": "2c11cd78",
   "metadata": {},
   "outputs": [
    {
     "data": {
      "text/plain": [
       "[0,\n",
       " 4766,\n",
       " 4764,\n",
       " 4763,\n",
       " 4762,\n",
       " 4769,\n",
       " 4761,\n",
       " 4756,\n",
       " 4755,\n",
       " 4754,\n",
       " 4753,\n",
       " 4760,\n",
       " 4752,\n",
       " 4770,\n",
       " 4772,\n",
       " 4788,\n",
       " 4787,\n",
       " 4786,\n",
       " 4785,\n",
       " 4783,\n",
       " 4782,\n",
       " 4771,\n",
       " 4781,\n",
       " 4779,\n",
       " 4778,\n",
       " 4777,\n",
       " 4776,\n",
       " 4774,\n",
       " 4773,\n",
       " 4780,\n",
       " 4751,\n",
       " 4750,\n",
       " 4727,\n",
       " 4726,\n",
       " 4725,\n",
       " 4724,\n",
       " 4723,\n",
       " 4722,\n",
       " 4721,\n",
       " 4720,\n",
       " 4717,\n",
       " 4716,\n",
       " 4715,\n",
       " 4714,\n",
       " 4713,\n",
       " 4712,\n",
       " 4731,\n",
       " 4748,\n",
       " 4746,\n",
       " 4745,\n",
       " 4744,\n",
       " 4743,\n",
       " 4742,\n",
       " 4741,\n",
       " 4740,\n",
       " 4736,\n",
       " 4735,\n",
       " 4734,\n",
       " 4733,\n",
       " 4732,\n",
       " 4789,\n",
       " 4711,\n",
       " 4790,\n",
       " 4792,\n",
       " 4849,\n",
       " 4848,\n",
       " 4847,\n",
       " 4846,\n",
       " 4845,\n",
       " 4843,\n",
       " 4850,\n",
       " 4840,\n",
       " 4839,\n",
       " 4838,\n",
       " 4837,\n",
       " 4836,\n",
       " 4835,\n",
       " 4841,\n",
       " 4833,\n",
       " 4851,\n",
       " 4853,\n",
       " 4867,\n",
       " 4866,\n",
       " 4865,\n",
       " 4864,\n",
       " 4862,\n",
       " 4860,\n",
       " 4859,\n",
       " 4858,\n",
       " 4857,\n",
       " 4856,\n",
       " 4855,\n",
       " 4861,\n",
       " 4832,\n",
       " 4831,\n",
       " 4830,\n",
       " 4808,\n",
       " 4807,\n",
       " 4805,\n",
       " 4803,\n",
       " 4802,\n",
       " 4809,\n",
       " 4801,\n",
       " 4799,\n",
       " 4798,\n",
       " 4797,\n",
       " 4796,\n",
       " 4795,\n",
       " 4793,\n",
       " 4800,\n",
       " 4810,\n",
       " 4811,\n",
       " 4812,\n",
       " 4829,\n",
       " 4828,\n",
       " 4827,\n",
       " 4826,\n",
       " 4825,\n",
       " 4823,\n",
       " 4822,\n",
       " 4821,\n",
       " 4820,\n",
       " 4819,\n",
       " 4818,\n",
       " 4817,\n",
       " 4815,\n",
       " 4813,\n",
       " 4791,\n",
       " 4710,\n",
       " 4606,\n",
       " 4605,\n",
       " 4603,\n",
       " 4602,\n",
       " 4601,\n",
       " 4600,\n",
       " 4607,\n",
       " 4599,\n",
       " 4597,\n",
       " 4595,\n",
       " 4593,\n",
       " 4592,\n",
       " 4591,\n",
       " 4598,\n",
       " 4590,\n",
       " 4608,\n",
       " 4610,\n",
       " 4626,\n",
       " 4623,\n",
       " 4622,\n",
       " 4621,\n",
       " 4620,\n",
       " 4619,\n",
       " 4617,\n",
       " 4613,\n",
       " 4612,\n",
       " 4611,\n",
       " 4618,\n",
       " 4589,\n",
       " 4588,\n",
       " 4587,\n",
       " 4565,\n",
       " 4564,\n",
       " 4563,\n",
       " 4562,\n",
       " 4561,\n",
       " 4560,\n",
       " 4559,\n",
       " 4558,\n",
       " 4556,\n",
       " 4557,\n",
       " 4567,\n",
       " 4569,\n",
       " 4585,\n",
       " 4583,\n",
       " 4582,\n",
       " 4581,\n",
       " 4580,\n",
       " 4579,\n",
       " 4578,\n",
       " 4577,\n",
       " 4576,\n",
       " 4575,\n",
       " 4573,\n",
       " 4572,\n",
       " 4571,\n",
       " 4570,\n",
       " 4627,\n",
       " 4630,\n",
       " 4687,\n",
       " 4686,\n",
       " 4685,\n",
       " 4684,\n",
       " 4683,\n",
       " 4682,\n",
       " 4681,\n",
       " 4680,\n",
       " 4677,\n",
       " 4676,\n",
       " 4675,\n",
       " 4674,\n",
       " 4673,\n",
       " 4672,\n",
       " 4671,\n",
       " 4689,\n",
       " 4691,\n",
       " 4707,\n",
       " 4706,\n",
       " 4705,\n",
       " 4704,\n",
       " 4703,\n",
       " 4702,\n",
       " 4701,\n",
       " 4690,\n",
       " 4700,\n",
       " 4697,\n",
       " 4696,\n",
       " 4695,\n",
       " 4694,\n",
       " 4693,\n",
       " 4692,\n",
       " 4670,\n",
       " 4668,\n",
       " 4646,\n",
       " 4645,\n",
       " 4640,\n",
       " 4647,\n",
       " 4639,\n",
       " 4637,\n",
       " 4636,\n",
       " 4631,\n",
       " 4638,\n",
       " 4648,\n",
       " 4649,\n",
       " 4650,\n",
       " 4667,\n",
       " 4666,\n",
       " 4665,\n",
       " 4664,\n",
       " 4661,\n",
       " 4656,\n",
       " 4655,\n",
       " 4654,\n",
       " 4653,\n",
       " 4652,\n",
       " 4629,\n",
       " 4871,\n",
       " 4872,\n",
       " 4873,\n",
       " 5093,\n",
       " 5092,\n",
       " 5090,\n",
       " 5088,\n",
       " 5087,\n",
       " 5094,\n",
       " 5086,\n",
       " 5084,\n",
       " 5078,\n",
       " 5085,\n",
       " 5077,\n",
       " 5095,\n",
       " 5097,\n",
       " 5107,\n",
       " 5096,\n",
       " 5098,\n",
       " 5076,\n",
       " 5074,\n",
       " 5051,\n",
       " 5050,\n",
       " 5049,\n",
       " 5048,\n",
       " 5047,\n",
       " 5045,\n",
       " 5043,\n",
       " 5042,\n",
       " 5038,\n",
       " 5054,\n",
       " 5073,\n",
       " 5072,\n",
       " 5071,\n",
       " 5068,\n",
       " 5067,\n",
       " 5066,\n",
       " 5065,\n",
       " 5064,\n",
       " 5062,\n",
       " 5060,\n",
       " 5036,\n",
       " 5174,\n",
       " 5173,\n",
       " 5172,\n",
       " 5171,\n",
       " 5170,\n",
       " 5169,\n",
       " 5168,\n",
       " 5175,\n",
       " 5167,\n",
       " 5165,\n",
       " 5164,\n",
       " 5163,\n",
       " 5161,\n",
       " 5159,\n",
       " 5158,\n",
       " 5176,\n",
       " 5178,\n",
       " 5194,\n",
       " 5193,\n",
       " 5192,\n",
       " 5191,\n",
       " 5190,\n",
       " 5189,\n",
       " 5188,\n",
       " 5177,\n",
       " 5187,\n",
       " 5185,\n",
       " 5184,\n",
       " 5183,\n",
       " 5182,\n",
       " 5181,\n",
       " 5180,\n",
       " 5179,\n",
       " 5186,\n",
       " 5157,\n",
       " 5156,\n",
       " 5155,\n",
       " 5133,\n",
       " 5132,\n",
       " 5130,\n",
       " 5129,\n",
       " 5128,\n",
       " 5134,\n",
       " 5126,\n",
       " 5124,\n",
       " 5123,\n",
       " 5120,\n",
       " 5125,\n",
       " 5136,\n",
       " 5154,\n",
       " 5153,\n",
       " 5152,\n",
       " 5151,\n",
       " 5150,\n",
       " 5149,\n",
       " 5148,\n",
       " 5146,\n",
       " 5144,\n",
       " 5143,\n",
       " 5142,\n",
       " 5035,\n",
       " 5034,\n",
       " 5033,\n",
       " 4929,\n",
       " 4927,\n",
       " 4926,\n",
       " 4925,\n",
       " 4924,\n",
       " 4923,\n",
       " 4919,\n",
       " 4917,\n",
       " 4916,\n",
       " 4915,\n",
       " 4932,\n",
       " 4934,\n",
       " 4949,\n",
       " 4947,\n",
       " 4946,\n",
       " 4945,\n",
       " 4944,\n",
       " 4933,\n",
       " 4943,\n",
       " 4941,\n",
       " 4939,\n",
       " 4937,\n",
       " 4936,\n",
       " 4935,\n",
       " 4942,\n",
       " 4913,\n",
       " 4912,\n",
       " 4889,\n",
       " 4887,\n",
       " 4886,\n",
       " 4885,\n",
       " 4884,\n",
       " 4883,\n",
       " 4882,\n",
       " 4879,\n",
       " 4877,\n",
       " 4876,\n",
       " 4875,\n",
       " 4874,\n",
       " 4881,\n",
       " 4891,\n",
       " 4892,\n",
       " 4893,\n",
       " 4909,\n",
       " 4907,\n",
       " 4906,\n",
       " 4905,\n",
       " 4903,\n",
       " 4902,\n",
       " 4901,\n",
       " 4899,\n",
       " 4897,\n",
       " 4896,\n",
       " 4895,\n",
       " 4894,\n",
       " 4952,\n",
       " 4953,\n",
       " 4954,\n",
       " 5011,\n",
       " 5010,\n",
       " 5009,\n",
       " 5008,\n",
       " 5007,\n",
       " 5005,\n",
       " 5012,\n",
       " 5004,\n",
       " 5002,\n",
       " 5001,\n",
       " 5000,\n",
       " 4999,\n",
       " 4997,\n",
       " 5003,\n",
       " 5013,\n",
       " 5014,\n",
       " 5015,\n",
       " 5032,\n",
       " 5031,\n",
       " 5027,\n",
       " 5025,\n",
       " 5024,\n",
       " 5023,\n",
       " 5022,\n",
       " 5021,\n",
       " 5020,\n",
       " 5019,\n",
       " 5017,\n",
       " 4995,\n",
       " 4994,\n",
       " 4992,\n",
       " 4970,\n",
       " 4968,\n",
       " 4967,\n",
       " 4966,\n",
       " 4965,\n",
       " 4964,\n",
       " 4971,\n",
       " 4963,\n",
       " 4959,\n",
       " 4957,\n",
       " 4956,\n",
       " 4955,\n",
       " 4962,\n",
       " 4972,\n",
       " 4973,\n",
       " 4991,\n",
       " 4989,\n",
       " 4987,\n",
       " 4985,\n",
       " 4984,\n",
       " 4983,\n",
       " 4982,\n",
       " 4981,\n",
       " 4980,\n",
       " 4979,\n",
       " 4977,\n",
       " 4993,\n",
       " 219,\n",
       " 218,\n",
       " 217,\n",
       " 216,\n",
       " 215,\n",
       " 214,\n",
       " 213,\n",
       " 220,\n",
       " 212,\n",
       " 210,\n",
       " 209,\n",
       " 208,\n",
       " 207,\n",
       " 206,\n",
       " 205,\n",
       " 204,\n",
       " 211,\n",
       " 203,\n",
       " 221,\n",
       " 223,\n",
       " 239,\n",
       " 238,\n",
       " 237,\n",
       " 236,\n",
       " 235,\n",
       " 234,\n",
       " 233,\n",
       " 222,\n",
       " 232,\n",
       " 230,\n",
       " 229,\n",
       " 228,\n",
       " 227,\n",
       " 226,\n",
       " 225,\n",
       " 224,\n",
       " 231,\n",
       " 202,\n",
       " 201,\n",
       " 200,\n",
       " 178,\n",
       " 177,\n",
       " 176,\n",
       " 175,\n",
       " 174,\n",
       " 173,\n",
       " 172,\n",
       " 179,\n",
       " 171,\n",
       " 169,\n",
       " 168,\n",
       " 167,\n",
       " 166,\n",
       " 165,\n",
       " 164,\n",
       " 163,\n",
       " 170,\n",
       " 180,\n",
       " 181,\n",
       " 182,\n",
       " 199,\n",
       " 198,\n",
       " 197,\n",
       " 196,\n",
       " 195,\n",
       " 194,\n",
       " 193,\n",
       " 192,\n",
       " 191,\n",
       " 190,\n",
       " 189,\n",
       " 188,\n",
       " 187,\n",
       " 186,\n",
       " 185,\n",
       " 184,\n",
       " 183,\n",
       " 240,\n",
       " 162,\n",
       " 241,\n",
       " 243,\n",
       " 300,\n",
       " 299,\n",
       " 298,\n",
       " 297,\n",
       " 296,\n",
       " 295,\n",
       " 294,\n",
       " 301,\n",
       " 293,\n",
       " 291,\n",
       " 290,\n",
       " 289,\n",
       " 288,\n",
       " 287,\n",
       " 286,\n",
       " 285,\n",
       " 292,\n",
       " 284,\n",
       " 302,\n",
       " 304,\n",
       " 320,\n",
       " 319,\n",
       " 318,\n",
       " 317,\n",
       " 316,\n",
       " 315,\n",
       " 314,\n",
       " 303,\n",
       " 313,\n",
       " 311,\n",
       " 310,\n",
       " 309,\n",
       " 308,\n",
       " 307,\n",
       " 306,\n",
       " 305,\n",
       " 312,\n",
       " 283,\n",
       " 282,\n",
       " 281,\n",
       " 259,\n",
       " 258,\n",
       " 257,\n",
       " 256,\n",
       " 255,\n",
       " 254,\n",
       " 253,\n",
       " 260,\n",
       " 252,\n",
       " 250,\n",
       " 249,\n",
       " 248,\n",
       " 247,\n",
       " 246,\n",
       " 245,\n",
       " 244,\n",
       " 251,\n",
       " 261,\n",
       " 262,\n",
       " 263,\n",
       " 280,\n",
       " 279,\n",
       " 278,\n",
       " 277,\n",
       " 276,\n",
       " 275,\n",
       " 274,\n",
       " 273,\n",
       " 272,\n",
       " 271,\n",
       " 270,\n",
       " 269,\n",
       " 268,\n",
       " 267,\n",
       " 266,\n",
       " 265,\n",
       " 264,\n",
       " 242,\n",
       " 161,\n",
       " 160,\n",
       " 159,\n",
       " 56,\n",
       " 55,\n",
       " 54,\n",
       " 53,\n",
       " 52,\n",
       " 51,\n",
       " 50,\n",
       " 57,\n",
       " 49,\n",
       " 47,\n",
       " 46,\n",
       " 45,\n",
       " 44,\n",
       " 43,\n",
       " 42,\n",
       " 41,\n",
       " 48,\n",
       " 40,\n",
       " 58,\n",
       " 60,\n",
       " 76,\n",
       " 75,\n",
       " 74,\n",
       " 73,\n",
       " 72,\n",
       " 71,\n",
       " 70,\n",
       " 59,\n",
       " 69,\n",
       " 67,\n",
       " 66,\n",
       " 65,\n",
       " 64,\n",
       " 63,\n",
       " 62,\n",
       " 61,\n",
       " 68,\n",
       " 39,\n",
       " 38,\n",
       " 37,\n",
       " 15,\n",
       " 14,\n",
       " 13,\n",
       " 12,\n",
       " 11,\n",
       " 10,\n",
       " 9,\n",
       " 16,\n",
       " 8,\n",
       " 6,\n",
       " 5,\n",
       " 4,\n",
       " 3,\n",
       " 2,\n",
       " 1,\n",
       " 7,\n",
       " 17,\n",
       " 18,\n",
       " 19,\n",
       " 36,\n",
       " 35,\n",
       " 34,\n",
       " 33,\n",
       " 32,\n",
       " 31,\n",
       " 30,\n",
       " 29,\n",
       " 28,\n",
       " 27,\n",
       " 26,\n",
       " 25,\n",
       " 24,\n",
       " 23,\n",
       " 22,\n",
       " 21,\n",
       " 20,\n",
       " 77,\n",
       " 78,\n",
       " 79,\n",
       " 80,\n",
       " 137,\n",
       " 136,\n",
       " 135,\n",
       " 134,\n",
       " 133,\n",
       " 132,\n",
       " 131,\n",
       " 138,\n",
       " 130,\n",
       " 128,\n",
       " 127,\n",
       " 126,\n",
       " 125,\n",
       " 124,\n",
       " 123,\n",
       " 122,\n",
       " 129,\n",
       " 139,\n",
       " 140,\n",
       " 141,\n",
       " 158,\n",
       " 157,\n",
       " 156,\n",
       " 155,\n",
       " 154,\n",
       " 153,\n",
       " 152,\n",
       " 151,\n",
       " 150,\n",
       " 149,\n",
       " 148,\n",
       " 147,\n",
       " 146,\n",
       " 145,\n",
       " 144,\n",
       " 143,\n",
       " 142,\n",
       " 121,\n",
       " 321,\n",
       " 120,\n",
       " 118,\n",
       " 96,\n",
       " 95,\n",
       " 94,\n",
       " 93,\n",
       " 92,\n",
       " 91,\n",
       " 90,\n",
       " 97,\n",
       " 89,\n",
       " 87,\n",
       " 86,\n",
       " 85,\n",
       " 84,\n",
       " 83,\n",
       " 82,\n",
       " 81,\n",
       " 88,\n",
       " 98,\n",
       " 99,\n",
       " 100,\n",
       " 115,\n",
       " 114,\n",
       " 113,\n",
       " 112,\n",
       " 111,\n",
       " 110,\n",
       " 109,\n",
       " 108,\n",
       " 107,\n",
       " 106,\n",
       " 105,\n",
       " 104,\n",
       " 103,\n",
       " 102,\n",
       " 101,\n",
       " 119,\n",
       " 322,\n",
       " 324,\n",
       " 340,\n",
       " 339,\n",
       " 338,\n",
       " 337,\n",
       " 336,\n",
       " 335,\n",
       " 334,\n",
       " 341,\n",
       " 333,\n",
       " 331,\n",
       " 330,\n",
       " 329,\n",
       " 328,\n",
       " 327,\n",
       " 326,\n",
       " 325,\n",
       " 332,\n",
       " 342,\n",
       " 343,\n",
       " 344,\n",
       " 359,\n",
       " 358,\n",
       " 357,\n",
       " 356,\n",
       " 355,\n",
       " 354,\n",
       " 353,\n",
       " 352,\n",
       " 351,\n",
       " 350,\n",
       " 349,\n",
       " 348,\n",
       " 347,\n",
       " 346,\n",
       " 345,\n",
       " 323,\n",
       " 10810,\n",
       " 10477,\n",
       " 10476,\n",
       " 10471,\n",
       " 10478,\n",
       " 10469,\n",
       " 10467,\n",
       " 10466,\n",
       " 10461,\n",
       " 10468,\n",
       " 10479,\n",
       " 10481,\n",
       " 10499,\n",
       " 10498,\n",
       " 10497,\n",
       " 10496,\n",
       " 10491,\n",
       " 10489,\n",
       " 10488,\n",
       " 10487,\n",
       " 10486,\n",
       " 10459,\n",
       " 10501,\n",
       " 10458,\n",
       " 10456,\n",
       " 10431,\n",
       " 10429,\n",
       " 10428,\n",
       " 10427,\n",
       " 10422,\n",
       " 10421,\n",
       " 10420,\n",
       " 10416,\n",
       " 10434,\n",
       " 10436,\n",
       " 10452,\n",
       " 10450,\n",
       " 10449,\n",
       " 10448,\n",
       " 10447,\n",
       " 10444,\n",
       " 10442,\n",
       " 10441,\n",
       " 10440,\n",
       " 10439,\n",
       " 10457,\n",
       " 10414,\n",
       " 10567,\n",
       " 10566,\n",
       " 10565,\n",
       " 10560,\n",
       " 10568,\n",
       " 10557,\n",
       " 10556,\n",
       " 10555,\n",
       " 10550,\n",
       " 10558,\n",
       " 10570,\n",
       " 10590,\n",
       " 10588,\n",
       " 10587,\n",
       " 10586,\n",
       " 10585,\n",
       " 10580,\n",
       " 10578,\n",
       " 10577,\n",
       " 10576,\n",
       " 10575,\n",
       " 10548,\n",
       " 10546,\n",
       " 10520,\n",
       " 10519,\n",
       " 10518,\n",
       " 10517,\n",
       " 10516,\n",
       " 10511,\n",
       " 10509,\n",
       " 10508,\n",
       " 10507,\n",
       " 10506,\n",
       " 10505,\n",
       " 10524,\n",
       " 10525,\n",
       " 10526,\n",
       " 10545,\n",
       " 10540,\n",
       " 10538,\n",
       " 10537,\n",
       " 10536,\n",
       " 10535,\n",
       " 10530,\n",
       " 10528,\n",
       " 10527,\n",
       " 10547,\n",
       " 10413,\n",
       " 10411,\n",
       " 10412,\n",
       " 10387,\n",
       " 10384,\n",
       " 10388,\n",
       " 10406,\n",
       " 10400,\n",
       " 10399,\n",
       " 10397,\n",
       " 10395,\n",
       " 10394,\n",
       " 10393,\n",
       " 10594,\n",
       " 10838,\n",
       " 10833,\n",
       " 10831,\n",
       " 10839,\n",
       " 10830,\n",
       " 10828,\n",
       " 10823,\n",
       " 10821,\n",
       " 10829,\n",
       " 10840,\n",
       " 10842,\n",
       " 10860,\n",
       " 10859,\n",
       " 10858,\n",
       " 10857,\n",
       " 10852,\n",
       " 10850,\n",
       " 10849,\n",
       " 10848,\n",
       " 10847,\n",
       " 10820,\n",
       " 10862,\n",
       " 10819,\n",
       " 10791,\n",
       " 10790,\n",
       " 10789,\n",
       " 10788,\n",
       " 10793,\n",
       " 10781,\n",
       " 10780,\n",
       " 10779,\n",
       " 10778,\n",
       " 10783,\n",
       " 10813,\n",
       " 10811,\n",
       " 10809,\n",
       " 10808,\n",
       " 10807,\n",
       " 10803,\n",
       " 10801,\n",
       " 10800,\n",
       " 10799,\n",
       " 10798,\n",
       " 10818,\n",
       " 10926,\n",
       " 10925,\n",
       " 10924,\n",
       " 10923,\n",
       " 10922,\n",
       " 10929,\n",
       " 10918,\n",
       " 10916,\n",
       " 10915,\n",
       " 10914,\n",
       " 10913,\n",
       " 10946,\n",
       " 10941,\n",
       " 10937,\n",
       " 10936,\n",
       " 10935,\n",
       " 10934,\n",
       " 10933,\n",
       " 10882,\n",
       " 10880,\n",
       " 10879,\n",
       " 10878,\n",
       " 10872,\n",
       " 10870,\n",
       " 10869,\n",
       " ...]"
      ]
     },
     "execution_count": 20,
     "metadata": {},
     "output_type": "execute_result"
    }
   ],
   "source": [
    "index_list"
   ]
  },
  {
   "cell_type": "code",
   "execution_count": 21,
   "id": "1a20cf13",
   "metadata": {},
   "outputs": [],
   "source": [
    "df_train = remove(df_train,index_list)\n",
    "\n"
   ]
  },
  {
   "cell_type": "code",
   "execution_count": 22,
   "id": "debccf92",
   "metadata": {},
   "outputs": [
    {
     "data": {
      "text/plain": [
       "(134496, 43)"
      ]
     },
     "execution_count": 22,
     "metadata": {},
     "output_type": "execute_result"
    }
   ],
   "source": [
    "df_train.shape"
   ]
  },
  {
   "cell_type": "code",
   "execution_count": 23,
   "id": "6e417fc2",
   "metadata": {},
   "outputs": [
    {
     "data": {
      "image/png": "[encoded data removed]",
      "text/plain": [
       "<Figure size 432x288 with 1 Axes>"
      ]
     },
     "metadata": {
      "needs_background": "light"
     },
     "output_type": "display_data"
    },
    {
     "data": {
      "image/png": "[encoded data removed]",
      "text/plain": [
       "<Figure size 432x288 with 1 Axes>"
      ]
     },
     "metadata": {
      "needs_background": "light"
     },
     "output_type": "display_data"
    },
    {
     "data": {
      "image/png": "[encoded data removed]",
      "text/plain": [
       "<Figure size 432x288 with 1 Axes>"
      ]
     },
     "metadata": {
      "needs_background": "light"
     },
     "output_type": "display_data"
    },
    {
     "data": {
      "image/png": "[encoded data removed]",
      "text/plain": [
       "<Figure size 432x288 with 1 Axes>"
      ]
     },
     "metadata": {
      "needs_background": "light"
     },
     "output_type": "display_data"
    },
    {
     "data": {
      "image/png": "[encoded data removed]",
      "text/plain": [
       "<Figure size 432x288 with 1 Axes>"
      ]
     },
     "metadata": {
      "needs_background": "light"
     },
     "output_type": "display_data"
    },
    {
     "data": {
      "image/png": "[encoded data removed]",
      "text/plain": [
       "<Figure size 432x288 with 1 Axes>"
      ]
     },
     "metadata": {
      "needs_background": "light"
     },
     "output_type": "display_data"
    },
    {
     "data": {
      "image/png": "[encoded data removed]",
      "text/plain": [
       "<Figure size 432x288 with 1 Axes>"
      ]
     },
     "metadata": {
      "needs_background": "light"
     },
     "output_type": "display_data"
    },
    {
     "data": {
      "image/png": "[encoded data removed]",
      "text/plain": [
       "<Figure size 432x288 with 1 Axes>"
      ]
     },
     "metadata": {
      "needs_background": "light"
     },
     "output_type": "display_data"
    },
    {
     "data": {
      "image/png": "[encoded data removed]",
      "text/plain": [
       "<Figure size 432x288 with 1 Axes>"
      ]
     },
     "metadata": {
      "needs_background": "light"
     },
     "output_type": "display_data"
    },
    {
     "data": {
      "image/png": "[encoded data removed]",
      "text/plain": [
       "<Figure size 432x288 with 1 Axes>"
      ]
     },
     "metadata": {
      "needs_background": "light"
     },
     "output_type": "display_data"
    },
    {
     "data": {
      "image/png": "[encoded data removed]",
      "text/plain": [
       "<Figure size 432x288 with 1 Axes>"
      ]
     },
     "metadata": {
      "needs_background": "light"
     },
     "output_type": "display_data"
    },
    {
     "data": {
      "image/png": "[encoded data removed]",
      "text/plain": [
       "<Figure size 432x288 with 1 Axes>"
      ]
     },
     "metadata": {
      "needs_background": "light"
     },
     "output_type": "display_data"
    },
    {
     "data": {
      "image/png": "[encoded data removed]",
      "text/plain": [
       "<Figure size 432x288 with 1 Axes>"
      ]
     },
     "metadata": {
      "needs_background": "light"
     },
     "output_type": "display_data"
    },
    {
     "data": {
      "image/png": "[encoded data removed]",
      "text/plain": [
       "<Figure size 432x288 with 1 Axes>"
      ]
     },
     "metadata": {
      "needs_background": "light"
     },
     "output_type": "display_data"
    },
    {
     "data": {
      "image/png": "[encoded data removed]",
      "text/plain": [
       "<Figure size 432x288 with 1 Axes>"
      ]
     },
     "metadata": {
      "needs_background": "light"
     },
     "output_type": "display_data"
    },
    {
     "data": {
      "image/png": "[encoded data removed]",
      "text/plain": [
       "<Figure size 432x288 with 1 Axes>"
      ]
     },
     "metadata": {
      "needs_background": "light"
     },
     "output_type": "display_data"
    },
    {
     "data": {
      "image/png": "[encoded data removed]",
      "text/plain": [
       "<Figure size 432x288 with 1 Axes>"
      ]
     },
     "metadata": {
      "needs_background": "light"
     },
     "output_type": "display_data"
    },
    {
     "data": {
      "image/png": "[encoded data removed]",
      "text/plain": [
       "<Figure size 432x288 with 1 Axes>"
      ]
     },
     "metadata": {
      "needs_background": "light"
     },
     "output_type": "display_data"
    },
    {
     "data": {
      "image/png": "[encoded data removed]",
      "text/plain": [
       "<Figure size 432x288 with 1 Axes>"
      ]
     },
     "metadata": {
      "needs_background": "light"
     },
     "output_type": "display_data"
    },
    {
     "data": {
      "image/png": "[encoded data removed]",
      "text/plain": [
       "<Figure size 432x288 with 1 Axes>"
      ]
     },
     "metadata": {
      "needs_background": "light"
     },
     "output_type": "display_data"
    },
    {
     "data": {
      "image/png": "[encoded data removed]",
      "text/plain": [
       "<Figure size 432x288 with 1 Axes>"
      ]
     },
     "metadata": {
      "needs_background": "light"
     },
     "output_type": "display_data"
    },
    {
     "data": {
      "image/png": "[encoded data removed]",
      "text/plain": [
       "<Figure size 432x288 with 1 Axes>"
      ]
     },
     "metadata": {
      "needs_background": "light"
     },
     "output_type": "display_data"
    },
    {
     "data": {
      "image/png": "[encoded data removed]",
      "text/plain": [
       "<Figure size 432x288 with 1 Axes>"
      ]
     },
     "metadata": {
      "needs_background": "light"
     },
     "output_type": "display_data"
    },
    {
     "data": {
      "image/png": "[encoded data removed]",
      "text/plain": [
       "<Figure size 432x288 with 1 Axes>"
      ]
     },
     "metadata": {
      "needs_background": "light"
     },
     "output_type": "display_data"
    },
    {
     "data": {
      "image/png": "[encoded data removed]",
      "text/plain": [
       "<Figure size 432x288 with 1 Axes>"
      ]
     },
     "metadata": {
      "needs_background": "light"
     },
     "output_type": "display_data"
    },
    {
     "data": {
      "image/png": "[encoded data removed]",
      "text/plain": [
       "<Figure size 432x288 with 1 Axes>"
      ]
     },
     "metadata": {
      "needs_background": "light"
     },
     "output_type": "display_data"
    },
    {
     "data": {
      "image/png": "[encoded data removed]",
      "text/plain": [
       "<Figure size 432x288 with 1 Axes>"
      ]
     },
     "metadata": {
      "needs_background": "light"
     },
     "output_type": "display_data"
    },
    {
     "data": {
      "image/png": "[encoded data removed]",
      "text/plain": [
       "<Figure size 432x288 with 1 Axes>"
      ]
     },
     "metadata": {
      "needs_background": "light"
     },
     "output_type": "display_data"
    },
    {
     "data": {
      "image/png": "[encoded data removed]",
      "text/plain": [
       "<Figure size 432x288 with 1 Axes>"
      ]
     },
     "metadata": {
      "needs_background": "light"
     },
     "output_type": "display_data"
    },
    {
     "data": {
      "image/png": "[encoded data removed]",
      "text/plain": [
       "<Figure size 432x288 with 1 Axes>"
      ]
     },
     "metadata": {
      "needs_background": "light"
     },
     "output_type": "display_data"
    },
    {
     "data": {
      "image/png": "[encoded data removed]",
      "text/plain": [
       "<Figure size 432x288 with 1 Axes>"
      ]
     },
     "metadata": {
      "needs_background": "light"
     },
     "output_type": "display_data"
    },
    {
     "data": {
      "image/png": "[encoded data removed]",
      "text/plain": [
       "<Figure size 432x288 with 1 Axes>"
      ]
     },
     "metadata": {
      "needs_background": "light"
     },
     "output_type": "display_data"
    },
    {
     "data": {
      "image/png": "[encoded data removed]",
      "text/plain": [
       "<Figure size 432x288 with 1 Axes>"
      ]
     },
     "metadata": {
      "needs_background": "light"
     },
     "output_type": "display_data"
    },
    {
     "data": {
      "image/png": "[encoded data removed]",
      "text/plain": [
       "<Figure size 432x288 with 1 Axes>"
      ]
     },
     "metadata": {
      "needs_background": "light"
     },
     "output_type": "display_data"
    },
    {
     "data": {
      "image/png": "[encoded data removed]",
      "text/plain": [
       "<Figure size 432x288 with 1 Axes>"
      ]
     },
     "metadata": {
      "needs_background": "light"
     },
     "output_type": "display_data"
    },
    {
     "data": {
      "image/png": "[encoded data removed]",
      "text/plain": [
       "<Figure size 432x288 with 1 Axes>"
      ]
     },
     "metadata": {
      "needs_background": "light"
     },
     "output_type": "display_data"
    },
    {
     "data": {
      "image/png": "[encoded data removed]",
      "text/plain": [
       "<Figure size 432x288 with 1 Axes>"
      ]
     },
     "metadata": {
      "needs_background": "light"
     },
     "output_type": "display_data"
    },
    {
     "data": {
      "image/png": "[encoded data removed]",
      "text/plain": [
       "<Figure size 432x288 with 1 Axes>"
      ]
     },
     "metadata": {
      "needs_background": "light"
     },
     "output_type": "display_data"
    },
    {
     "data": {
      "image/png": "[encoded data removed]",
      "text/plain": [
       "<Figure size 432x288 with 1 Axes>"
      ]
     },
     "metadata": {
      "needs_background": "light"
     },
     "output_type": "display_data"
    },
    {
     "data": {
      "image/png": "[encoded data removed]",
      "text/plain": [
       "<Figure size 432x288 with 1 Axes>"
      ]
     },
     "metadata": {
      "needs_background": "light"
     },
     "output_type": "display_data"
    },
    {
     "data": {
      "image/png": "[encoded data removed]",
      "text/plain": [
       "<Figure size 432x288 with 1 Axes>"
      ]
     },
     "metadata": {
      "needs_background": "light"
     },
     "output_type": "display_data"
    }
   ],
   "source": [
    "for i in range(41):\n",
    "    plot_boxplot(df_train,i)"
   ]
  },
  {
   "cell_type": "code",
   "execution_count": 24,
   "id": "04050bc5",
   "metadata": {},
   "outputs": [],
   "source": [
    "# Put Categorical using Pandas\n",
    "output = df_train[\"class_type\"]\n",
    "df_train[\"class_type\"] = pd.Categorical(df_train[\"class_type\"])\n",
    "df_train[\"class_type\"] = df_train.class_type.cat.codes\n"
   ]
  },
  {
   "cell_type": "code",
   "execution_count": 25,
   "id": "09154a38",
   "metadata": {},
   "outputs": [],
   "source": [
    "# Copy Label and Feature for training\n",
    "y_train = df_train.pop(\"class_type\")\n",
    "x_train = df_train.copy()"
   ]
  },
  {
   "cell_type": "code",
   "execution_count": 26,
   "id": "ba4e7910",
   "metadata": {},
   "outputs": [
    {
     "data": {
      "text/html": [
       "<div>\n",
       "<style scoped>\n",
       "    .dataframe tbody tr th:only-of-type {\n",
       "        vertical-align: middle;\n",
       "    }\n",
       "\n",
       "    .dataframe tbody tr th {\n",
       "        vertical-align: top;\n",
       "    }\n",
       "\n",
       "    .dataframe thead th {\n",
       "        text-align: right;\n",
       "    }\n",
       "</style>\n",
       "<table border=\"1\" class=\"dataframe\">\n",
       "  <thead>\n",
       "    <tr style=\"text-align: right;\">\n",
       "      <th></th>\n",
       "      <th>0</th>\n",
       "      <th>1</th>\n",
       "      <th>2</th>\n",
       "      <th>3</th>\n",
       "      <th>4</th>\n",
       "      <th>5</th>\n",
       "      <th>6</th>\n",
       "      <th>7</th>\n",
       "      <th>8</th>\n",
       "      <th>9</th>\n",
       "      <th>...</th>\n",
       "      <th>32</th>\n",
       "      <th>33</th>\n",
       "      <th>34</th>\n",
       "      <th>35</th>\n",
       "      <th>36</th>\n",
       "      <th>37</th>\n",
       "      <th>38</th>\n",
       "      <th>39</th>\n",
       "      <th>40</th>\n",
       "      <th>41</th>\n",
       "    </tr>\n",
       "  </thead>\n",
       "  <tbody>\n",
       "    <tr>\n",
       "      <th>0</th>\n",
       "      <td>0.121415</td>\n",
       "      <td>0.257057</td>\n",
       "      <td>0.082436</td>\n",
       "      <td>0.240903</td>\n",
       "      <td>0.049874</td>\n",
       "      <td>0.196428</td>\n",
       "      <td>0.045322</td>\n",
       "      <td>0.154667</td>\n",
       "      <td>0.056183</td>\n",
       "      <td>0.127662</td>\n",
       "      <td>...</td>\n",
       "      <td>0.124738</td>\n",
       "      <td>0.216930</td>\n",
       "      <td>0.155376</td>\n",
       "      <td>0.187856</td>\n",
       "      <td>0.158880</td>\n",
       "      <td>0.172588</td>\n",
       "      <td>0.152389</td>\n",
       "      <td>0.200258</td>\n",
       "      <td>0.145149</td>\n",
       "      <td>0.219337</td>\n",
       "    </tr>\n",
       "    <tr>\n",
       "      <th>1</th>\n",
       "      <td>0.125854</td>\n",
       "      <td>0.252132</td>\n",
       "      <td>0.085931</td>\n",
       "      <td>0.241266</td>\n",
       "      <td>0.051119</td>\n",
       "      <td>0.194475</td>\n",
       "      <td>0.048481</td>\n",
       "      <td>0.149196</td>\n",
       "      <td>0.064398</td>\n",
       "      <td>0.122582</td>\n",
       "      <td>...</td>\n",
       "      <td>0.127599</td>\n",
       "      <td>0.213305</td>\n",
       "      <td>0.159956</td>\n",
       "      <td>0.185202</td>\n",
       "      <td>0.164571</td>\n",
       "      <td>0.170228</td>\n",
       "      <td>0.159014</td>\n",
       "      <td>0.197996</td>\n",
       "      <td>0.151341</td>\n",
       "      <td>0.214371</td>\n",
       "    </tr>\n",
       "    <tr>\n",
       "      <th>2</th>\n",
       "      <td>0.133680</td>\n",
       "      <td>0.255351</td>\n",
       "      <td>0.091296</td>\n",
       "      <td>0.239515</td>\n",
       "      <td>0.055224</td>\n",
       "      <td>0.195635</td>\n",
       "      <td>0.048904</td>\n",
       "      <td>0.152098</td>\n",
       "      <td>0.062062</td>\n",
       "      <td>0.124821</td>\n",
       "      <td>...</td>\n",
       "      <td>0.134690</td>\n",
       "      <td>0.212323</td>\n",
       "      <td>0.162529</td>\n",
       "      <td>0.182016</td>\n",
       "      <td>0.166330</td>\n",
       "      <td>0.164425</td>\n",
       "      <td>0.161874</td>\n",
       "      <td>0.191881</td>\n",
       "      <td>0.155981</td>\n",
       "      <td>0.212318</td>\n",
       "    </tr>\n",
       "    <tr>\n",
       "      <th>3</th>\n",
       "      <td>0.138670</td>\n",
       "      <td>0.254452</td>\n",
       "      <td>0.095506</td>\n",
       "      <td>0.239431</td>\n",
       "      <td>0.058161</td>\n",
       "      <td>0.194781</td>\n",
       "      <td>0.051619</td>\n",
       "      <td>0.150049</td>\n",
       "      <td>0.064710</td>\n",
       "      <td>0.122313</td>\n",
       "      <td>...</td>\n",
       "      <td>0.138984</td>\n",
       "      <td>0.207978</td>\n",
       "      <td>0.166302</td>\n",
       "      <td>0.179797</td>\n",
       "      <td>0.169656</td>\n",
       "      <td>0.160901</td>\n",
       "      <td>0.165833</td>\n",
       "      <td>0.188423</td>\n",
       "      <td>0.159503</td>\n",
       "      <td>0.209044</td>\n",
       "    </tr>\n",
       "    <tr>\n",
       "      <th>4</th>\n",
       "      <td>0.144232</td>\n",
       "      <td>0.251446</td>\n",
       "      <td>0.098842</td>\n",
       "      <td>0.242086</td>\n",
       "      <td>0.056072</td>\n",
       "      <td>0.193297</td>\n",
       "      <td>0.048658</td>\n",
       "      <td>0.143788</td>\n",
       "      <td>0.065765</td>\n",
       "      <td>0.115237</td>\n",
       "      <td>...</td>\n",
       "      <td>0.144719</td>\n",
       "      <td>0.209890</td>\n",
       "      <td>0.169730</td>\n",
       "      <td>0.172288</td>\n",
       "      <td>0.172545</td>\n",
       "      <td>0.156063</td>\n",
       "      <td>0.171324</td>\n",
       "      <td>0.187094</td>\n",
       "      <td>0.167067</td>\n",
       "      <td>0.208141</td>\n",
       "    </tr>\n",
       "  </tbody>\n",
       "</table>\n",
       "<p>5 rows × 42 columns</p>\n",
       "</div>"
      ],
      "text/plain": [
       "         0         1         2         3         4         5         6   \\\n",
       "0  0.121415  0.257057  0.082436  0.240903  0.049874  0.196428  0.045322   \n",
       "1  0.125854  0.252132  0.085931  0.241266  0.051119  0.194475  0.048481   \n",
       "2  0.133680  0.255351  0.091296  0.239515  0.055224  0.195635  0.048904   \n",
       "3  0.138670  0.254452  0.095506  0.239431  0.058161  0.194781  0.051619   \n",
       "4  0.144232  0.251446  0.098842  0.242086  0.056072  0.193297  0.048658   \n",
       "\n",
       "         7         8         9   ...        32        33        34        35  \\\n",
       "0  0.154667  0.056183  0.127662  ...  0.124738  0.216930  0.155376  0.187856   \n",
       "1  0.149196  0.064398  0.122582  ...  0.127599  0.213305  0.159956  0.185202   \n",
       "2  0.152098  0.062062  0.124821  ...  0.134690  0.212323  0.162529  0.182016   \n",
       "3  0.150049  0.064710  0.122313  ...  0.138984  0.207978  0.166302  0.179797   \n",
       "4  0.143788  0.065765  0.115237  ...  0.144719  0.209890  0.169730  0.172288   \n",
       "\n",
       "         36        37        38        39        40        41  \n",
       "0  0.158880  0.172588  0.152389  0.200258  0.145149  0.219337  \n",
       "1  0.164571  0.170228  0.159014  0.197996  0.151341  0.214371  \n",
       "2  0.166330  0.164425  0.161874  0.191881  0.155981  0.212318  \n",
       "3  0.169656  0.160901  0.165833  0.188423  0.159503  0.209044  \n",
       "4  0.172545  0.156063  0.171324  0.187094  0.167067  0.208141  \n",
       "\n",
       "[5 rows x 42 columns]"
      ]
     },
     "execution_count": 26,
     "metadata": {},
     "output_type": "execute_result"
    }
   ],
   "source": [
    "#DATA Normalizing X_train\n",
    "x_train = preprocessing.normalize(x_train)\n",
    "x_train = pd.DataFrame(x_train)\n",
    "x_train.head()"
   ]
  },
  {
   "cell_type": "code",
   "execution_count": null,
   "id": "a9516e20",
   "metadata": {},
   "outputs": [],
   "source": []
  },
  {
   "cell_type": "code",
   "execution_count": 27,
   "id": "ef4ca893",
   "metadata": {},
   "outputs": [],
   "source": [
    "# Copied Features turn to Array by using NumPy\n",
    "x_train = np.array(x_train)\n"
   ]
  },
  {
   "cell_type": "code",
   "execution_count": null,
   "id": "95c9ed4b",
   "metadata": {},
   "outputs": [],
   "source": []
  },
  {
   "cell_type": "code",
   "execution_count": 28,
   "id": "8a3cc06e",
   "metadata": {},
   "outputs": [
    {
     "name": "stdout",
     "output_type": "stream",
     "text": [
      "(134496, 42)\n",
      "(134496, 42, 1)\n"
     ]
    }
   ],
   "source": [
    "# Check Array Shape before transformation\n",
    "print(x_train.shape)\n",
    "\n",
    "\n",
    "# Since the array shape is 1x1, we must turn it into 1x10x1 so we can feed it into the model\n",
    "x_train = np.reshape(x_train, (x_train.shape[0], x_train.shape[1], 1))\n",
    "\n",
    "# Check Array Shape after transformation\n",
    "print(x_train.shape)\n",
    "\n",
    "\n"
   ]
  },
  {
   "cell_type": "code",
   "execution_count": 29,
   "id": "5f7f6c33",
   "metadata": {},
   "outputs": [],
   "source": [
    "# Check sample train and test features\n",
    "# print(x_train[0])\n",
    "# print(x_test[7])"
   ]
  },
  {
   "cell_type": "code",
   "execution_count": null,
   "id": "04973084",
   "metadata": {},
   "outputs": [],
   "source": []
  },
  {
   "cell_type": "code",
   "execution_count": 30,
   "id": "4720dcd9",
   "metadata": {},
   "outputs": [],
   "source": [
    "# Number of classes according standard Indonesian Language Alphabets\n",
    "num_classes = 29\n",
    "\n",
    "# Using the Keras.Utils to put the label categorically \n",
    "y_train = to_categorical(y_train, num_classes)\n"
   ]
  },
  {
   "cell_type": "code",
   "execution_count": 31,
   "id": "cd4fb876",
   "metadata": {},
   "outputs": [],
   "source": [
    "x_train, x_test, y_train, y_test = train_test_split(x_train, y_train, test_size=0.2, stratify=y_train)"
   ]
  },
  {
   "cell_type": "code",
   "execution_count": 32,
   "id": "4465416f",
   "metadata": {},
   "outputs": [
    {
     "data": {
      "text/plain": [
       "((107596, 42, 1), (26900, 42, 1), (107596, 29), (26900, 29))"
      ]
     },
     "execution_count": 32,
     "metadata": {},
     "output_type": "execute_result"
    }
   ],
   "source": [
    "x_train.shape, x_test.shape, y_train.shape, y_test.shape"
   ]
  },
  {
   "cell_type": "code",
   "execution_count": 33,
   "id": "2e8b90f7",
   "metadata": {},
   "outputs": [
    {
     "data": {
      "text/plain": [
       "(42, 1)"
      ]
     },
     "execution_count": 33,
     "metadata": {},
     "output_type": "execute_result"
    }
   ],
   "source": [
    "x_train.shape[1:3]"
   ]
  },
  {
   "cell_type": "code",
   "execution_count": null,
   "id": "12fe619f",
   "metadata": {},
   "outputs": [],
   "source": []
  },
  {
   "cell_type": "code",
   "execution_count": null,
   "id": "6bfd71df",
   "metadata": {},
   "outputs": [],
   "source": [
    "learning_rate=0.0001\n",
    "\n",
    "\n",
    "# One Dimensional Convolutional Neural Network model, Train will be feed to 1 Dimension Convolutional Neural Network\n",
    "model = tf.keras.models.Sequential([\n",
    "    tf.keras.layers.Conv1D(filters=64, kernel_size=5, strides=1, padding=\"causal\", activation=\"relu\", input_shape=x_train.shape[1:3]),\n",
    "    tf.keras.layers.Conv1D(filters=32, kernel_size=5, strides=1, padding=\"causal\", activation=\"relu\"),\n",
    "    #tf.keras.layers.MaxPooling1D(pool_size=2),\n",
    "    \n",
    "    tf.keras.layers.Conv1D(filters=128, kernel_size=5, strides=1, padding=\"causal\", activation=\"relu\"),\n",
    "    #tf.keras.layers.Conv1D(filters=64, kernel_size=5, strides=1, padding=\"causal\", activation=\"relu\"),\n",
    "    tf.keras.layers.MaxPooling1D(pool_size=2),\n",
    "    tf.keras.layers.Dropout(rate=0.2),\n",
    "    \n",
    "    tf.keras.layers.Conv1D(filters=128, kernel_size=5, strides=1, padding=\"causal\", activation=\"relu\"),\n",
    "#     #tf.keras.layers.Conv1D(filters=64, kernel_size=5, strides=1, padding=\"causal\", activation=\"relu\"),\n",
    "    tf.keras.layers.MaxPooling1D(pool_size=2),\n",
    "    tf.keras.layers.Dropout(rate=0.2),\n",
    "    \n",
    "#     tf.keras.layers.Conv1D(filters=256, kernel_size=5, strides=1, padding=\"causal\", activation=\"relu\"),\n",
    "#     #tf.keras.layers.Conv1D(filters=256, kernel_size=5, strides=1, padding=\"causal\", activation=\"relu\"),\n",
    "#     tf.keras.layers.MaxPooling1D(pool_size=2),\n",
    "#     tf.keras.layers.Dropout(rate=0.4),\n",
    "    \n",
    "    # Flatten the results to feed into a DNN\n",
    "    tf.keras.layers.Flatten(),\n",
    "    #tf.keras.layers.Dropout(rate=0.4),\n",
    "    \n",
    "    # 512 neuron hidden layer\n",
    "    tf.keras.layers.Dense(512, activation='relu'), \n",
    "    tf.keras.layers.Dense(num_classes, activation='softmax')])"
   ]
  },
  {
   "cell_type": "code",
   "execution_count": null,
   "id": "10c5222f",
   "metadata": {},
   "outputs": [],
   "source": [
    "# learning_rate=0.0001\n",
    "# model = Sequential()\n",
    "# model.add(LSTM(64, return_sequences=True, activation='relu', input_shape=x_train.shape[1:3]))\n",
    "# model.add(LSTM(128, return_sequences=True, activation='relu'))\n",
    "# model.add(LSTM(64, return_sequences=False, activation='relu'))\n",
    "# model.add(Dense(64, activation='relu'))\n",
    "# model.add(Dropout(0.3))\n",
    "# model.add(Dense(32, activation='relu'))\n",
    "# model.add(Dense(num_classes, activation='softmax'))"
   ]
  },
  {
   "cell_type": "code",
   "execution_count": null,
   "id": "4b8c778b",
   "metadata": {},
   "outputs": [],
   "source": [
    "tensorboard = TensorBoard(log_dir=\"logs/{}\".format(time()))"
   ]
  },
  {
   "cell_type": "code",
   "execution_count": null,
   "id": "b9c690b6",
   "metadata": {},
   "outputs": [],
   "source": [
    "model.compile(loss = 'categorical_crossentropy', optimizer=Adam(learning_rate=learning_rate), metrics=['accuracy'])\n",
    "#model.compile(loss = 'categorical_crossentropy', optimizer='Adam', metrics=['accuracy'])\n",
    "model.summary()"
   ]
  },
  {
   "cell_type": "code",
   "execution_count": null,
   "id": "59b55157",
   "metadata": {
    "scrolled": true
   },
   "outputs": [],
   "source": [
    "#Train the Model\n",
    "history = model.fit(x_train, y_train, epochs=200, batch_size=64, validation_data=(x_test, y_test), callbacks=[tensorboard])"
   ]
  },
  {
   "cell_type": "code",
   "execution_count": null,
   "id": "253dc6ec",
   "metadata": {},
   "outputs": [],
   "source": [
    "results = model.evaluate(x_test, y_test, verbose=0)\n",
    "print(\"Test Loss: {:.5f}\".format(results[0]))\n",
    "print(\"Test Accuracy: {:.2f}%\".format(results[1] * 100))"
   ]
  },
  {
   "cell_type": "code",
   "execution_count": null,
   "id": "ccf6d860",
   "metadata": {},
   "outputs": [],
   "source": [
    "model.predict_proba(x_test)"
   ]
  },
  {
   "cell_type": "code",
   "execution_count": null,
   "id": "e4c2d724",
   "metadata": {},
   "outputs": [],
   "source": [
    "\n"
   ]
  },
  {
   "cell_type": "code",
   "execution_count": null,
   "id": "00efd5af",
   "metadata": {},
   "outputs": [],
   "source": [
    "import pickle"
   ]
  },
  {
   "cell_type": "code",
   "execution_count": null,
   "id": "8088539f",
   "metadata": {},
   "outputs": [],
   "source": [
    "pickle.dump(model, open('model_american', 'wb'))"
   ]
  },
  {
   "cell_type": "code",
   "execution_count": null,
   "id": "7dec9e95",
   "metadata": {},
   "outputs": [],
   "source": [
    "joblib.dump(model, 'model_american.sav')"
   ]
  },
  {
   "cell_type": "code",
   "execution_count": 3,
   "id": "b23e5cda",
   "metadata": {},
   "outputs": [
    {
     "ename": "NameError",
     "evalue": "name 'model' is not defined",
     "output_type": "error",
     "traceback": [
      "\u001b[1;31m---------------------------------------------------------------------------\u001b[0m",
      "\u001b[1;31mNameError\u001b[0m                                 Traceback (most recent call last)",
      "Input \u001b[1;32mIn [3]\u001b[0m, in \u001b[0;36m<cell line: 3>\u001b[1;34m()\u001b[0m\n\u001b[0;32m      1\u001b[0m \u001b[38;5;66;03m# Save model as pickle file\u001b[39;00m\n\u001b[0;32m      2\u001b[0m \u001b[38;5;66;03m#joblib.dump(model, \"model_american.pkl\")\u001b[39;00m\n\u001b[0;32m      3\u001b[0m \u001b[38;5;28;01mwith\u001b[39;00m \u001b[38;5;28mopen\u001b[39m(\u001b[38;5;124m\"\u001b[39m\u001b[38;5;124mmodel_american.pkl\u001b[39m\u001b[38;5;124m\"\u001b[39m, \u001b[38;5;124m\"\u001b[39m\u001b[38;5;124mwb\u001b[39m\u001b[38;5;124m\"\u001b[39m) \u001b[38;5;28;01mas\u001b[39;00m f:\n\u001b[1;32m----> 4\u001b[0m        pickle\u001b[38;5;241m.\u001b[39mdump(\u001b[43mmodel\u001b[49m, f)\n",
      "\u001b[1;31mNameError\u001b[0m: name 'model' is not defined"
     ]
    }
   ],
   "source": [
    "# Save model as pickle file\n",
    "#joblib.dump(model, \"model_american.pkl\")\n",
    "with open(\"model_american.pkl\", \"wb\") as f:\n",
    "       pickle.dump(model, f)"
   ]
  },
  {
   "cell_type": "code",
   "execution_count": null,
   "id": "8c38e4cc",
   "metadata": {},
   "outputs": [],
   "source": [
    "# model.save(\"model_american.h5\")"
   ]
  },
  {
   "cell_type": "code",
   "execution_count": null,
   "id": "9dc565af",
   "metadata": {},
   "outputs": [],
   "source": [
    "# Directly from Imageset Dataset Testing\n",
    "#Load Image and do Feature Extraction\n",
    "path_to_image = \"./SIBI_datasets_LEMLITBANG_SIBI_R_90.10_V02/SIBI_datasets_LEMLITBANG_SIBI_R_90.10_V02/test/F (3).jpg\"\n",
    "\n",
    "(wristX, wristY,\n",
    " thumb_CmcX, thumb_CmcY,\n",
    " thumb_McpX, thumb_McpY,\n",
    " thumb_IpX, thumb_IpY,\n",
    " thumb_TipX, thumb_TipY,\n",
    " index_McpX, index_McpY,\n",
    " index_PipX, index_PipY,\n",
    " index_DipX, index_DipY,\n",
    " index_TipX, index_TipY,\n",
    " middle_McpX, middle_McpY,\n",
    " middle_PipX, middle_PipY,\n",
    " middle_DipX, middle_DipY,\n",
    " middle_TipX, middle_TipY,\n",
    " ring_McpX, ring_McpY,\n",
    " ring_PipX, ring_PipY,\n",
    " ring_DipX, ring_DipY,\n",
    " ring_TipX, ring_TipY,\n",
    " pinky_McpX, pinky_McpY,\n",
    " pinky_PipX, pinky_PipY,\n",
    " pinky_DipX, pinky_DipY,\n",
    " pinky_TipX, pinky_TipY,\n",
    " output_IMG) = extract_feature(path_to_image)\n",
    "\n",
    "plt.axis(\"on\")\n",
    "plt.imshow(cv.cvtColor(output_IMG, cv.COLOR_BGR2RGB))\n",
    "plt.show()"
   ]
  },
  {
   "cell_type": "code",
   "execution_count": null,
   "id": "27c2ba7c",
   "metadata": {},
   "outputs": [],
   "source": [
    "predict_x=model.predict(x_test)\n",
    "classes_x=np.argmax(predict_x,axis=1)\n",
    "predict_x"
   ]
  },
  {
   "cell_type": "code",
   "execution_count": null,
   "id": "a52f247f",
   "metadata": {},
   "outputs": [],
   "source": [
    "y_test\n",
    "classes_y=np.argmax(y_test,axis=1)\n",
    "classes_y"
   ]
  },
  {
   "cell_type": "code",
   "execution_count": null,
   "id": "c3963ac0",
   "metadata": {},
   "outputs": [],
   "source": [
    "from sklearn import metrics\n",
    "\n",
    "cf_matrix = metrics.confusion_matrix(classes_y, classes_x)"
   ]
  },
  {
   "cell_type": "code",
   "execution_count": null,
   "id": "0e8cb0bb",
   "metadata": {},
   "outputs": [],
   "source": [
    "labels = sorted(list(set(output)))\n",
    "labels = [x.upper() for x in labels]\n",
    "labels"
   ]
  },
  {
   "cell_type": "code",
   "execution_count": null,
   "id": "5a1599cc",
   "metadata": {},
   "outputs": [],
   "source": [
    "fig, ax = plt.subplots(figsize=(12, 12))\n",
    "\n",
    "ax.set_title(\"Confusion Matrix - American Sign Language\")\n",
    "\n",
    "maping = sns.heatmap(cf_matrix, \n",
    "                     annot=True,\n",
    "                     cmap = plt.cm.Blues, \n",
    "                     linewidths=.2,\n",
    "                     xticklabels=labels,\n",
    "                     yticklabels=labels, vmax=8,\n",
    "                     fmt='g',\n",
    "                     ax=ax\n",
    "                    )\n",
    "maping"
   ]
  },
  {
   "cell_type": "code",
   "execution_count": null,
   "id": "a16291ed",
   "metadata": {},
   "outputs": [],
   "source": [
    "from sklearn.metrics import classification_report\n",
    "print(classification_report(classes_x, classes_y,target_names=labels))"
   ]
  },
  {
   "cell_type": "code",
   "execution_count": null,
   "id": "f17d7a2c",
   "metadata": {},
   "outputs": [],
   "source": [
    "#Shape the image features into an 1x3 array.\n",
    "input_IMG = np.array([[[wristX], [wristY],\n",
    "                     [thumb_CmcX], [thumb_CmcY],\n",
    "                     [thumb_McpX], [thumb_McpY],\n",
    "                     [thumb_IpX], [thumb_IpY],\n",
    "                     [thumb_TipX], [thumb_TipY],\n",
    "                     [index_McpX], [index_McpY],\n",
    "                     [index_PipX], [index_PipY],\n",
    "                     [index_DipX], [index_DipY],\n",
    "                     [index_TipX], [index_TipY],\n",
    "                     [middle_McpX], [middle_McpY],\n",
    "                     [middle_PipX], [middle_PipY],\n",
    "                     [middle_DipX], [middle_DipY],\n",
    "                     [middle_TipX], [middle_TipY],\n",
    "                     [ring_McpX], [ring_McpY],\n",
    "                     [ring_PipX], [ring_PipY],\n",
    "                     [ring_DipX], [ring_DipY],\n",
    "                     [ring_TipX], [ring_TipY],\n",
    "                     [pinky_McpX], [pinky_McpY],\n",
    "                     [pinky_PipX], [pinky_PipY],\n",
    "                     [pinky_DipX], [pinky_DipY],\n",
    "                     [pinky_TipX], [pinky_TipY],]])\n",
    "\n",
    "print(input_IMG.shape)\n",
    "print(input_IMG)"
   ]
  },
  {
   "cell_type": "code",
   "execution_count": null,
   "id": "853f5a79",
   "metadata": {},
   "outputs": [],
   "source": [
    "input_IMG.shape"
   ]
  },
  {
   "cell_type": "code",
   "execution_count": null,
   "id": "d6250f89",
   "metadata": {},
   "outputs": [],
   "source": [
    "#Print prediction using defined Classes\n",
    "predictions = classes_x\n",
    "for alphabets, values in classes.items():\n",
    "    if values == predictions[0] :\n",
    "        print(\"Possible Alphabet according to the input : \", alphabets)"
   ]
  },
  {
   "cell_type": "markdown",
   "id": "59a09dbc",
   "metadata": {
    "scrolled": true
   },
   "source": [
    "# Visualizing "
   ]
  },
  {
   "cell_type": "code",
   "execution_count": null,
   "id": "ab51b474",
   "metadata": {},
   "outputs": [],
   "source": []
  },
  {
   "cell_type": "code",
   "execution_count": null,
   "id": "40fb0c5f",
   "metadata": {},
   "outputs": [],
   "source": [
    "plt.figure(figsize=(15,6))\n",
    "plt.plot(history.history['loss'])\n",
    "plt.plot(history.history['val_loss'])\n",
    "plt.title('model loss')\n",
    "plt.ylabel('loss')\n",
    "plt.xlabel('epoch')\n",
    "plt.legend(['train', 'test'], loc='upper left')\n",
    "plt.show()"
   ]
  },
  {
   "cell_type": "code",
   "execution_count": null,
   "id": "b00c323f",
   "metadata": {},
   "outputs": [],
   "source": [
    "plt.figure(figsize=(15,6))\n",
    "plt.plot(history.history['accuracy'])\n",
    "plt.plot(history.history['val_accuracy'])\n",
    "plt.title('model accuracy')\n",
    "plt.ylabel('accuracy')\n",
    "plt.xlabel('epoch')\n",
    "plt.legend(['train', 'test'], loc='upper left')\n",
    "plt.show()"
   ]
  },
  {
   "cell_type": "code",
   "execution_count": null,
   "id": "fc99db94",
   "metadata": {},
   "outputs": [],
   "source": [
    "# from keras.models import load_model\n",
    "# model = load_model('model_american.h5')"
   ]
  },
  {
   "cell_type": "code",
   "execution_count": 6,
   "id": "b942c63e",
   "metadata": {},
   "outputs": [
    {
     "name": "stderr",
     "output_type": "stream",
     "text": [
      "C:\\Users\\Admin\\anaconda3\\envs\\tf\\lib\\site-packages\\sklearn\\base.py:329: UserWarning: Trying to unpickle estimator SVC from version 1.0.2 when using version 1.1.1. This might lead to breaking code or invalid results. Use at your own risk. For more info please refer to:\n",
      "https://scikit-learn.org/stable/model_persistence.html#security-maintainability-limitations\n",
      "  warnings.warn(\n"
     ]
    }
   ],
   "source": [
    "import pickle\n",
    "with open('model.pkl', 'rb') as f:\n",
    "    model = pickle.load(f)"
   ]
  },
  {
   "cell_type": "code",
   "execution_count": 16,
   "id": "fc5570e0",
   "metadata": {},
   "outputs": [
    {
     "ename": "NameError",
     "evalue": "name 'x_test' is not defined",
     "output_type": "error",
     "traceback": [
      "\u001b[1;31m---------------------------------------------------------------------------\u001b[0m",
      "\u001b[1;31mNameError\u001b[0m                                 Traceback (most recent call last)",
      "Input \u001b[1;32mIn [16]\u001b[0m, in \u001b[0;36m<cell line: 1>\u001b[1;34m()\u001b[0m\n\u001b[1;32m----> 1\u001b[0m \u001b[43mx_test\u001b[49m\n",
      "\u001b[1;31mNameError\u001b[0m: name 'x_test' is not defined"
     ]
    }
   ],
   "source": [
    "x_test"
   ]
  },
  {
   "cell_type": "code",
   "execution_count": 17,
   "id": "d3983c20",
   "metadata": {},
   "outputs": [
    {
     "data": {
      "text/plain": [
       "array([[0.01 , 0.017, 0.006, 0.006, 0.013, 0.015, 0.076, 0.019, 0.041,\n",
       "        0.029, 0.007, 0.05 , 0.24 , 0.014, 0.007, 0.043, 0.169, 0.015,\n",
       "        0.068, 0.012, 0.025, 0.009, 0.005, 0.021, 0.065, 0.016]])"
      ]
     },
     "execution_count": 17,
     "metadata": {},
     "output_type": "execute_result"
    }
   ],
   "source": [
    "proba_str = model.predict_proba([[0.325752854347229, 0.9598181843757629, 0.3526579737663269, 0.9424720406532288, 0.3792518973350525, 0.9240488409996033, 0.40350213646888733, 0.9199249744415283, 0.42576414346694946, 0.9275805354118347, 0.373000830411911, 0.8860394954681396, 0.40804070234298706, 0.8958154320716858, 0.42894235253334045, 0.9130456447601318, 0.44214025139808655, 0.9283350110054016, 0.36860302090644836, 0.8871005177497864, 0.4052424728870392, 0.8990107178688049, 0.42753130197525024, 0.9159035086631775, 0.44317826628685, 0.9313869476318359, 0.3671325445175171, 0.8943575024604797, 0.40483975410461426, 0.9044559001922607, 0.4272681176662445, 0.9195631146430969, 0.44297486543655396, 0.9344357252120972, 0.36743971705436707, 0.9071312546730042, 0.3994187116622925, 0.9135122299194336, 0.41952359676361084, 0.9246867299079895, 0.434166818857193, 0.9350578188896179]])\n",
    "proba_str"
   ]
  },
  {
   "cell_type": "code",
   "execution_count": 18,
   "id": "8e1325f2",
   "metadata": {},
   "outputs": [
    {
     "data": {
      "text/plain": [
       "12"
      ]
     },
     "execution_count": 18,
     "metadata": {},
     "output_type": "execute_result"
    }
   ],
   "source": [
    "max_proba_index = np.argmax(proba_str)\n",
    "max_proba_index"
   ]
  },
  {
   "cell_type": "code",
   "execution_count": 19,
   "id": "a147de19",
   "metadata": {},
   "outputs": [
    {
     "data": {
      "text/plain": [
       "0.24007340317788609"
      ]
     },
     "execution_count": 19,
     "metadata": {},
     "output_type": "execute_result"
    }
   ],
   "source": [
    "max_proba_val = proba_str[0][max_proba_index]\n",
    "max_proba_val"
   ]
  },
  {
   "cell_type": "code",
   "execution_count": 20,
   "id": "1e2893ed",
   "metadata": {},
   "outputs": [
    {
     "name": "stdout",
     "output_type": "stream",
     "text": [
      "Warning! No module named 'sounddevice'\n"
     ]
    }
   ],
   "source": [
    "import pyshine as ps\n",
    "import time"
   ]
  },
  {
   "cell_type": "code",
   "execution_count": 21,
   "id": "a3b4f84d",
   "metadata": {},
   "outputs": [],
   "source": [
    "global is_voice_on"
   ]
  },
  {
   "cell_type": "code",
   "execution_count": 51,
   "id": "b2b2b6a3",
   "metadata": {},
   "outputs": [],
   "source": [
    "\n",
    "mp_drawing = mp.solutions.drawing_utils\n",
    "mp_hands = mp.solutions.hands\n",
    "\n",
    "# For webcam input:\n",
    "hands = mp_hands.Hands(\n",
    "    min_detection_confidence=0.7, min_tracking_confidence=0.5)\n",
    "\n",
    "cap = cv.VideoCapture(0)\n",
    "\n",
    "def data_clean(landmark):\n",
    "  \n",
    "  data = landmark[0]\n",
    "  \n",
    "  \n",
    "  try:\n",
    "    data = str(data)\n",
    "\n",
    "    data = data.strip().split('\\n')\n",
    "\n",
    "    garbage = ['landmark {', '  visibility: 0.0', '  presence: 0.0', '}']\n",
    "\n",
    "    without_garbage = []\n",
    "\n",
    "    for i in data:\n",
    "        if i not in garbage:\n",
    "            without_garbage.append(i)\n",
    "\n",
    "    clean = []\n",
    "\n",
    "    for i in without_garbage:\n",
    "        i = i.strip()\n",
    "        clean.append(i[2:])\n",
    "\n",
    "#     for i in range(0, len(clean)):\n",
    "#         clean[i] = float(clean[i])\n",
    "        \n",
    "    finalClean = []\n",
    "    for i in range(0, len(clean)):\n",
    "        if (i+1) % 3 != 0:\n",
    "            #clean[i] = float(clean[i]) # Original\n",
    "            finalClean.append(float(clean[i]))\n",
    "\n",
    "    \n",
    "    return([finalClean])\n",
    "\n",
    "  except:\n",
    "    return(np.zeros([1,42], dtype=int)[0])\n",
    "\n",
    "\n",
    "res, score = '', 0.0\n",
    "i = 0\n",
    "mem = ''\n",
    "consecutive = 0\n",
    "sequence = ''\n",
    "text = \"\"\n",
    "count_same_frames= 0\n",
    "    \n",
    "while cap.isOpened():\n",
    "    success, image = cap.read()\n",
    "    \n",
    "    image = cv.flip(image, 1)\n",
    "    old_text = text\n",
    "  \n",
    "    if not success:\n",
    "        break\n",
    "\n",
    "      # Flip the image horizontally for a later selfie-view display, and convert\n",
    "      # the BGR image to RGB.\n",
    "    image = cv.cvtColor(image, cv.COLOR_BGR2RGB)\n",
    "      # To improve performance, optionally mark the image as not writeable to\n",
    "      # pass by reference.\n",
    "    image.flags.writeable = False\n",
    "    results = hands.process(image)\n",
    "\n",
    "      # Draw the hand annotations on the image.\n",
    "    image.flags.writeable = True\n",
    "\n",
    "    image = cv.cvtColor(image, cv.COLOR_RGB2BGR)\n",
    "\n",
    "    if results.multi_hand_landmarks:\n",
    "        for hand_landmarks in results.multi_hand_landmarks:\n",
    "              mp_drawing.draw_landmarks(\n",
    "                  image, hand_landmarks, mp_hands.HAND_CONNECTIONS,\n",
    "                  mp_drawing.DrawingSpec(color=(245,117,66), thickness=2, circle_radius=4),\n",
    "                  mp_drawing.DrawingSpec(color=(245,66,230), thickness=2, circle_radius=2)\n",
    "              )\n",
    "\n",
    "        cleaned_landmark = data_clean(results.multi_hand_landmarks)\n",
    "        #print(results.multi_hand_landmarks[0])\n",
    "        \n",
    "        \n",
    "        if cleaned_landmark:\n",
    "            clf = joblib.load('model.pkl')          \n",
    "            \n",
    "            \n",
    "            overlay = image.copy()\n",
    "            \n",
    "            # status box\n",
    "            cv.rectangle(overlay, (0,800), (800, 400), (0, 0, 0, 0.5), -1)\n",
    "            \n",
    "            alpha = 0.6\n",
    "            \n",
    "            image = cv.addWeighted(overlay, alpha, image, 1 - alpha, 0)\n",
    "            \n",
    "            y_pred = clf.predict(cleaned_landmark)\n",
    "            proba_str = clf.predict_proba(cleaned_landmark)\n",
    "            max_proba_index = np.argmax(proba_str)\n",
    "            max_proba_val = proba_str[0][max_proba_index]\n",
    "            \n",
    "            if old_text == y_pred:\n",
    "                count_same_frames += 1\n",
    "            else:\n",
    "                count_same_frames = 0\n",
    "            \n",
    "            \n",
    "            if count_same_frames > 20:                \n",
    "                    \n",
    "                    if len(y_pred) == 1:\n",
    "                        Thread(target=say_text, args=(y_pred, )).start()\n",
    "                    sequence = word + y_pred\n",
    "                    count_same_frames = 0\n",
    "                    old_text = y_pred\n",
    "            \n",
    "            \n",
    "            #print(\"{:.2f}\".format(proba_str))\n",
    "\n",
    "            #image = cv2.putText(image, str(y_pred[0]), (50,150), cv2.FONT_HERSHEY_SIMPLEX,  3, (0,0,255), 2, cv2.LINE_AA)\n",
    "            \n",
    "            \n",
    "            \n",
    "            if i > 20 and max_proba_val > 0.9:\n",
    "                \n",
    "                score = max_proba_val\n",
    "                res = y_pred[0]\n",
    "                i = 0\n",
    "                if mem == res:                    \n",
    "                    consecutive += 1\n",
    "                else:                    \n",
    "                    consecutive = 0\n",
    "                if consecutive == 2 and res not in ['nothing']:\n",
    "                    if res == 'L':                        \n",
    "                        sequence += ' '                        \n",
    "                    elif res == 'S':\n",
    "                        sequence += ' '\n",
    "                        Thread(target=say_text, args=(sequence,)).start()\n",
    "                    elif res == 'J':\n",
    "                        sequence = sequence[:-1]\n",
    "                    else:\n",
    "                        sequence += res\n",
    "                    consecutive = 0\n",
    "            i += 1  \n",
    "           \n",
    "            \n",
    "            if (max_proba_val > 0.9):\n",
    "                mem = res\n",
    "                \n",
    "                                   \n",
    "            cv.putText(image, 'Predicted Letter'\n",
    "                        , (50,420), cv.FONT_HERSHEY_SIMPLEX, 0.5, (255, 255, 255), 1, cv.LINE_AA)\n",
    "            cv.putText(image, '%s' % (sequence.upper())\n",
    "                        , (50,455), cv.FONT_HERSHEY_SIMPLEX, 1, (255, 255, 255), 2, cv.LINE_AA)\n",
    "#             cv.putText(image, 'Score', (20,30), cv.FONT_HERSHEY_SIMPLEX, 0.5, (255, 255, 255), 1, cv.LINE_AA)\n",
    "#             cv.putText(image, str(\"{:.2f}\".format(max_proba_val)), (20,60), cv.FONT_HERSHEY_SIMPLEX, 1, (255, 255, 255), 2, cv.LINE_AA)\n",
    "#             #np.argmax(proba_str)            \n",
    "                            \n",
    "            text  =  'Score'\n",
    "            image = ps.putBText(image,text,text_offset_x=500,text_offset_y=331,vspace=10,hspace=10, font_scale=0.65,background_RGB=(142,195,67),text_RGB=(255,255,255),alpha=0.1,font=cv.FONT_HERSHEY_SIMPLEX)\n",
    "            image = ps.putBText(image,str(\"{:.2f}\".format(max_proba_val)),text_offset_x=500,text_offset_y=366,vspace=10,hspace=10, font_scale=1.05,background_RGB=(142,195,67),text_RGB=(255,255,255),alpha=0.1,font=cv.FONT_HERSHEY_SIMPLEX)\n",
    "            \n",
    "            \n",
    "                \n",
    "            \n",
    "            image = ps.putBText(image,y_pred[0],text_offset_x=50,text_offset_y=366,vspace=10,hspace=10, font_scale=1.05,background_RGB=(142,195,67),text_RGB=(255,255,255),alpha=0.1,font=cv.FONT_HERSHEY_SIMPLEX)\n",
    "            \n",
    "                            \n",
    "    cv.imshow('MediaPipe Hands', image)\n",
    "\n",
    "    if cv.waitKey(5) & 0xFF == 27:\n",
    "        break\n",
    "\n",
    "hands.close()\n",
    "cap.release()\n",
    "cv.destroyAllWindows()\n",
    "    "
   ]
  },
  {
   "cell_type": "code",
   "execution_count": 50,
   "id": "d157ebee",
   "metadata": {},
   "outputs": [],
   "source": [
    "cap.release()"
   ]
  },
  {
   "cell_type": "code",
   "execution_count": 35,
   "id": "1c4a2d42",
   "metadata": {},
   "outputs": [],
   "source": [
    "def say_text(text):\n",
    "    if not is_voice_on:\n",
    "        return\n",
    "    while engine._inLoop:\n",
    "        pass\n",
    "    engine.say(text)\n",
    "    engine.runAndWait()"
   ]
  },
  {
   "cell_type": "code",
   "execution_count": null,
   "id": "7233f758",
   "metadata": {},
   "outputs": [],
   "source": []
  }
 ],
 "metadata": {
  "kernelspec": {
   "display_name": "Python 3 (ipykernel)",
   "language": "python",
   "name": "python3"
  },
  "language_info": {
   "codemirror_mode": {
    "name": "ipython",
    "version": 3
   },
   "file_extension": ".py",
   "mimetype": "text/x-python",
   "name": "python",
   "nbconvert_exporter": "python",
   "pygments_lexer": "ipython3",
   "version": "3.9.12"
  }
 },
 "nbformat": 4,
 "nbformat_minor": 5
}
